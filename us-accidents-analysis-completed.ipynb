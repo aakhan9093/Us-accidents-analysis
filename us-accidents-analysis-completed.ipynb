{
 "cells": [
  {
   "cell_type": "markdown",
   "id": "283aa2a8",
   "metadata": {
    "papermill": {
     "duration": 0.012659,
     "end_time": "2022-10-22T22:03:26.914946",
     "exception": false,
     "start_time": "2022-10-22T22:03:26.902287",
     "status": "completed"
    },
    "tags": []
   },
   "source": [
    "# US accidents Exploratory data analysis\n",
    "What am i goin to do here in this analysis can be sumamrised as follows:\n",
    "   - talk about dataset (source what it contains how it will be useful)\n",
    "   - kaggle\n",
    "   - info abt accidents\n",
    "   - can be useful to prevent accidents\n",
    "\n",
    "\n",
    "# Ask and Answer questions"
   ]
  },
  {
   "cell_type": "markdown",
   "id": "f0fbbfdb",
   "metadata": {
    "papermill": {
     "duration": 0.012531,
     "end_time": "2022-10-22T22:03:26.939218",
     "exception": false,
     "start_time": "2022-10-22T22:03:26.926687",
     "status": "completed"
    },
    "tags": []
   },
   "source": [
    "## So these are the answers to the questions which were derived from the analysis done below. For a more detailed answer, please refer to the deeper analysis below.\n",
    "\n",
    "1. Are there more accidents in warmer or colder seasons?\n",
    "\n",
    "A. *We need more data for atleast 20-30 years in order to finally get to a decision whether the winters had more accidents than the summers.*\n",
    "\n",
    "2. Which top 5 cities that have the highest no of accidents?\n",
    "\n",
    "A. *Miami, Los Angeles, Orlando, Dallas, Houston*\n",
    "\n",
    "3. Does NYC show up in the data? \n",
    "\n",
    "A. * No NYC was not included in the dataset in the first place.\n",
    "\n",
    "4. Among the top 100 cities in number of accidents, which states do they belong to most frequently.\n",
    "\n",
    "A. *They are mainly from the east and west coast.*\n",
    "\n",
    "5. What time of the day are accidents most frequent in?\n",
    "\n",
    "A. *During the weekdays accidents are frequent during the mornings and evenings. During the weekends it is mostly during the afternoons. On saturdays and sundays it was the afternoons that most of the accidents occur unlike weekdays where it was between 6-10am and 3-6pm.*.\n",
    "\n",
    "6. Which days of the week have the most accidents?\n",
    "\n",
    "A. *Thursdays and Fridays have most of the accidents.*\n",
    "\n",
    "7. Which months have the most accidents?\n",
    "\n",
    "A. *We need more data for atleast 20-30 years in order to finally get to a decision whether the winters had more accidents than the summers.*\n",
    "\n",
    "8. What is the trend of the accidents YOY(increasing/decreasing)?\n",
    "\n",
    "A. *We need more data for atleast 20-30 years in order to finally get to a decision whether the winters had more accidents than the summers.*\n"
   ]
  },
  {
   "cell_type": "markdown",
   "id": "8db9f17a",
   "metadata": {
    "papermill": {
     "duration": 0.011358,
     "end_time": "2022-10-22T22:03:26.962147",
     "exception": false,
     "start_time": "2022-10-22T22:03:26.950789",
     "status": "completed"
    },
    "tags": []
   },
   "source": [
    "## Summary & Conclusion\n",
    "Insights:\n",
    "\n",
    "-No data for new york.\n",
    "\n",
    "-No of accidents per city decreases exponentially.\n",
    "\n",
    "-Less than 5% of cities have more than 1000 accidents.\n",
    "\n",
    "-Over 1200 cities have reported just 1 accident(need to investigate further).\n",
    "\n",
    "## Conclusion:\n",
    "Again, for a more detailed answer, please refer to the deeper analysis below from where this conclusion was derived.\n",
    "\n",
    "Most of the accidents had happened on the west and east cost of US and that to the top 5 major cities where accidents happened were Houston, Miami, LA, Orlando and Dallas. Not surpricingly, these are the top most populous cities of the US.\n",
    "It is still not clear that winter season has higher number of accidents compared to summers. It was mostly during 6am-10am and 3pm-6pm where the accidents were most frequent during the weekdays and around 10am-1pm during the weekends.\n",
    "\n",
    "\n",
    "**My insight and analysis was not limited to the work presented here, it has a wealth of data ~4mil rows and can be further used to analyse data such as seasonal data,temperature data, humuidty, pressure and whatnot.**\n",
    "\n",
    "\n",
    "\n",
    "\n",
    "![](https://unsplash.com/photos/Q1p7bh3SHj8)"
   ]
  },
  {
   "cell_type": "markdown",
   "id": "b1e6d753",
   "metadata": {
    "papermill": {
     "duration": 0.011398,
     "end_time": "2022-10-22T22:03:26.985035",
     "exception": false,
     "start_time": "2022-10-22T22:03:26.973637",
     "status": "completed"
    },
    "tags": []
   },
   "source": [
    "# **Steps to be followed**\n",
    "\n",
    "Here’s the step by step process that I will follow:\n",
    "\n",
    "🔍 Select a large real-world dataset from Kaggle (in this case it is US accidents data)\n",
    "\n",
    "⚒ Perform data preparation & cleaning using Pandas & Numpy\n",
    "\n",
    "🔁 Perform exploratory analysis & visualization using Matplotlib & or Seaborn\n",
    "\n",
    "🙋‍♂️ Ask & answer questions about the data in a Jupyter notebook\n",
    "\n",
    "📝 Summarize your inferences & write a conclusion\n",
    "\n",
    "📑 Document, publish, and present and your Jupyter notebook online"
   ]
  },
  {
   "cell_type": "markdown",
   "id": "2b563ca4",
   "metadata": {
    "papermill": {
     "duration": 0.011309,
     "end_time": "2022-10-22T22:03:27.007911",
     "exception": false,
     "start_time": "2022-10-22T22:03:26.996602",
     "status": "completed"
    },
    "tags": []
   },
   "source": [
    "## 1. Data preparation & cleaning using Pandas & Numpy\n",
    "First important thing is to get the data from a public kaglle dataset. We will import the data and put it in a variable 'filename'.\n",
    "\n",
    "We will then Load the file using pandas and then look at the info abot the data and column to fix any missing and incorrect values."
   ]
  },
  {
   "cell_type": "code",
   "execution_count": 1,
   "id": "965560b3",
   "metadata": {
    "execution": {
     "iopub.execute_input": "2022-10-22T22:03:27.032847Z",
     "iopub.status.busy": "2022-10-22T22:03:27.032395Z",
     "iopub.status.idle": "2022-10-22T22:03:27.041808Z",
     "shell.execute_reply": "2022-10-22T22:03:27.041107Z"
    },
    "papermill": {
     "duration": 0.023955,
     "end_time": "2022-10-22T22:03:27.043373",
     "exception": false,
     "start_time": "2022-10-22T22:03:27.019418",
     "status": "completed"
    },
    "tags": []
   },
   "outputs": [],
   "source": [
    "filename = '../input/us-accidents/US_Accidents_Dec21_updated.csv'"
   ]
  },
  {
   "cell_type": "code",
   "execution_count": 2,
   "id": "67f9bf26",
   "metadata": {
    "execution": {
     "iopub.execute_input": "2022-10-22T22:03:27.067876Z",
     "iopub.status.busy": "2022-10-22T22:03:27.067190Z",
     "iopub.status.idle": "2022-10-22T22:03:55.776350Z",
     "shell.execute_reply": "2022-10-22T22:03:55.775717Z"
    },
    "papermill": {
     "duration": 28.723482,
     "end_time": "2022-10-22T22:03:55.778342",
     "exception": false,
     "start_time": "2022-10-22T22:03:27.054860",
     "status": "completed"
    },
    "tags": []
   },
   "outputs": [],
   "source": [
    "import pandas as pd\n",
    "\n",
    "df = pd.read_csv(filename)"
   ]
  },
  {
   "cell_type": "markdown",
   "id": "44c96a15",
   "metadata": {
    "papermill": {
     "duration": 0.011473,
     "end_time": "2022-10-22T22:03:55.801656",
     "exception": false,
     "start_time": "2022-10-22T22:03:55.790183",
     "status": "completed"
    },
    "tags": []
   },
   "source": [
    "### Cities"
   ]
  },
  {
   "cell_type": "code",
   "execution_count": 3,
   "id": "7a9321cf",
   "metadata": {
    "execution": {
     "iopub.execute_input": "2022-10-22T22:03:55.826458Z",
     "iopub.status.busy": "2022-10-22T22:03:55.825504Z",
     "iopub.status.idle": "2022-10-22T22:03:57.156662Z",
     "shell.execute_reply": "2022-10-22T22:03:57.155822Z"
    },
    "papermill": {
     "duration": 1.346032,
     "end_time": "2022-10-22T22:03:57.159266",
     "exception": false,
     "start_time": "2022-10-22T22:03:55.813234",
     "status": "completed"
    },
    "tags": []
   },
   "outputs": [
    {
     "data": {
      "text/html": [
       "<div>\n",
       "<style scoped>\n",
       "    .dataframe tbody tr th:only-of-type {\n",
       "        vertical-align: middle;\n",
       "    }\n",
       "\n",
       "    .dataframe tbody tr th {\n",
       "        vertical-align: top;\n",
       "    }\n",
       "\n",
       "    .dataframe thead th {\n",
       "        text-align: right;\n",
       "    }\n",
       "</style>\n",
       "<table border=\"1\" class=\"dataframe\">\n",
       "  <thead>\n",
       "    <tr style=\"text-align: right;\">\n",
       "      <th></th>\n",
       "      <th>ID</th>\n",
       "      <th>Severity</th>\n",
       "      <th>Start_Time</th>\n",
       "      <th>End_Time</th>\n",
       "      <th>Start_Lat</th>\n",
       "      <th>Start_Lng</th>\n",
       "      <th>End_Lat</th>\n",
       "      <th>End_Lng</th>\n",
       "      <th>Distance(mi)</th>\n",
       "      <th>Description</th>\n",
       "      <th>...</th>\n",
       "      <th>Roundabout</th>\n",
       "      <th>Station</th>\n",
       "      <th>Stop</th>\n",
       "      <th>Traffic_Calming</th>\n",
       "      <th>Traffic_Signal</th>\n",
       "      <th>Turning_Loop</th>\n",
       "      <th>Sunrise_Sunset</th>\n",
       "      <th>Civil_Twilight</th>\n",
       "      <th>Nautical_Twilight</th>\n",
       "      <th>Astronomical_Twilight</th>\n",
       "    </tr>\n",
       "  </thead>\n",
       "  <tbody>\n",
       "    <tr>\n",
       "      <th>0</th>\n",
       "      <td>A-1</td>\n",
       "      <td>3</td>\n",
       "      <td>2016-02-08 00:37:08</td>\n",
       "      <td>2016-02-08 06:37:08</td>\n",
       "      <td>40.108910</td>\n",
       "      <td>-83.092860</td>\n",
       "      <td>40.112060</td>\n",
       "      <td>-83.031870</td>\n",
       "      <td>3.230</td>\n",
       "      <td>Between Sawmill Rd/Exit 20 and OH-315/Olentang...</td>\n",
       "      <td>...</td>\n",
       "      <td>False</td>\n",
       "      <td>False</td>\n",
       "      <td>False</td>\n",
       "      <td>False</td>\n",
       "      <td>False</td>\n",
       "      <td>False</td>\n",
       "      <td>Night</td>\n",
       "      <td>Night</td>\n",
       "      <td>Night</td>\n",
       "      <td>Night</td>\n",
       "    </tr>\n",
       "    <tr>\n",
       "      <th>1</th>\n",
       "      <td>A-2</td>\n",
       "      <td>2</td>\n",
       "      <td>2016-02-08 05:56:20</td>\n",
       "      <td>2016-02-08 11:56:20</td>\n",
       "      <td>39.865420</td>\n",
       "      <td>-84.062800</td>\n",
       "      <td>39.865010</td>\n",
       "      <td>-84.048730</td>\n",
       "      <td>0.747</td>\n",
       "      <td>At OH-4/OH-235/Exit 41 - Accident.</td>\n",
       "      <td>...</td>\n",
       "      <td>False</td>\n",
       "      <td>False</td>\n",
       "      <td>False</td>\n",
       "      <td>False</td>\n",
       "      <td>False</td>\n",
       "      <td>False</td>\n",
       "      <td>Night</td>\n",
       "      <td>Night</td>\n",
       "      <td>Night</td>\n",
       "      <td>Night</td>\n",
       "    </tr>\n",
       "    <tr>\n",
       "      <th>2</th>\n",
       "      <td>A-3</td>\n",
       "      <td>2</td>\n",
       "      <td>2016-02-08 06:15:39</td>\n",
       "      <td>2016-02-08 12:15:39</td>\n",
       "      <td>39.102660</td>\n",
       "      <td>-84.524680</td>\n",
       "      <td>39.102090</td>\n",
       "      <td>-84.523960</td>\n",
       "      <td>0.055</td>\n",
       "      <td>At I-71/US-50/Exit 1 - Accident.</td>\n",
       "      <td>...</td>\n",
       "      <td>False</td>\n",
       "      <td>False</td>\n",
       "      <td>False</td>\n",
       "      <td>False</td>\n",
       "      <td>False</td>\n",
       "      <td>False</td>\n",
       "      <td>Night</td>\n",
       "      <td>Night</td>\n",
       "      <td>Night</td>\n",
       "      <td>Day</td>\n",
       "    </tr>\n",
       "    <tr>\n",
       "      <th>3</th>\n",
       "      <td>A-4</td>\n",
       "      <td>2</td>\n",
       "      <td>2016-02-08 06:51:45</td>\n",
       "      <td>2016-02-08 12:51:45</td>\n",
       "      <td>41.062130</td>\n",
       "      <td>-81.537840</td>\n",
       "      <td>41.062170</td>\n",
       "      <td>-81.535470</td>\n",
       "      <td>0.123</td>\n",
       "      <td>At Dart Ave/Exit 21 - Accident.</td>\n",
       "      <td>...</td>\n",
       "      <td>False</td>\n",
       "      <td>False</td>\n",
       "      <td>False</td>\n",
       "      <td>False</td>\n",
       "      <td>False</td>\n",
       "      <td>False</td>\n",
       "      <td>Night</td>\n",
       "      <td>Night</td>\n",
       "      <td>Day</td>\n",
       "      <td>Day</td>\n",
       "    </tr>\n",
       "    <tr>\n",
       "      <th>4</th>\n",
       "      <td>A-5</td>\n",
       "      <td>3</td>\n",
       "      <td>2016-02-08 07:53:43</td>\n",
       "      <td>2016-02-08 13:53:43</td>\n",
       "      <td>39.172393</td>\n",
       "      <td>-84.492792</td>\n",
       "      <td>39.170476</td>\n",
       "      <td>-84.501798</td>\n",
       "      <td>0.500</td>\n",
       "      <td>At Mitchell Ave/Exit 6 - Accident.</td>\n",
       "      <td>...</td>\n",
       "      <td>False</td>\n",
       "      <td>False</td>\n",
       "      <td>False</td>\n",
       "      <td>False</td>\n",
       "      <td>False</td>\n",
       "      <td>False</td>\n",
       "      <td>Day</td>\n",
       "      <td>Day</td>\n",
       "      <td>Day</td>\n",
       "      <td>Day</td>\n",
       "    </tr>\n",
       "    <tr>\n",
       "      <th>...</th>\n",
       "      <td>...</td>\n",
       "      <td>...</td>\n",
       "      <td>...</td>\n",
       "      <td>...</td>\n",
       "      <td>...</td>\n",
       "      <td>...</td>\n",
       "      <td>...</td>\n",
       "      <td>...</td>\n",
       "      <td>...</td>\n",
       "      <td>...</td>\n",
       "      <td>...</td>\n",
       "      <td>...</td>\n",
       "      <td>...</td>\n",
       "      <td>...</td>\n",
       "      <td>...</td>\n",
       "      <td>...</td>\n",
       "      <td>...</td>\n",
       "      <td>...</td>\n",
       "      <td>...</td>\n",
       "      <td>...</td>\n",
       "      <td>...</td>\n",
       "    </tr>\n",
       "    <tr>\n",
       "      <th>2845337</th>\n",
       "      <td>A-2845338</td>\n",
       "      <td>2</td>\n",
       "      <td>2019-08-23 18:03:25</td>\n",
       "      <td>2019-08-23 18:32:01</td>\n",
       "      <td>34.002480</td>\n",
       "      <td>-117.379360</td>\n",
       "      <td>33.998880</td>\n",
       "      <td>-117.370940</td>\n",
       "      <td>0.543</td>\n",
       "      <td>At Market St - Accident.</td>\n",
       "      <td>...</td>\n",
       "      <td>False</td>\n",
       "      <td>False</td>\n",
       "      <td>False</td>\n",
       "      <td>False</td>\n",
       "      <td>False</td>\n",
       "      <td>False</td>\n",
       "      <td>Day</td>\n",
       "      <td>Day</td>\n",
       "      <td>Day</td>\n",
       "      <td>Day</td>\n",
       "    </tr>\n",
       "    <tr>\n",
       "      <th>2845338</th>\n",
       "      <td>A-2845339</td>\n",
       "      <td>2</td>\n",
       "      <td>2019-08-23 19:11:30</td>\n",
       "      <td>2019-08-23 19:38:23</td>\n",
       "      <td>32.766960</td>\n",
       "      <td>-117.148060</td>\n",
       "      <td>32.765550</td>\n",
       "      <td>-117.153630</td>\n",
       "      <td>0.338</td>\n",
       "      <td>At Camino Del Rio/Mission Center Rd - Accident.</td>\n",
       "      <td>...</td>\n",
       "      <td>False</td>\n",
       "      <td>False</td>\n",
       "      <td>False</td>\n",
       "      <td>False</td>\n",
       "      <td>False</td>\n",
       "      <td>False</td>\n",
       "      <td>Day</td>\n",
       "      <td>Day</td>\n",
       "      <td>Day</td>\n",
       "      <td>Day</td>\n",
       "    </tr>\n",
       "    <tr>\n",
       "      <th>2845339</th>\n",
       "      <td>A-2845340</td>\n",
       "      <td>2</td>\n",
       "      <td>2019-08-23 19:00:21</td>\n",
       "      <td>2019-08-23 19:28:49</td>\n",
       "      <td>33.775450</td>\n",
       "      <td>-117.847790</td>\n",
       "      <td>33.777400</td>\n",
       "      <td>-117.857270</td>\n",
       "      <td>0.561</td>\n",
       "      <td>At Glassell St/Grand Ave - Accident. in the ri...</td>\n",
       "      <td>...</td>\n",
       "      <td>False</td>\n",
       "      <td>False</td>\n",
       "      <td>False</td>\n",
       "      <td>False</td>\n",
       "      <td>False</td>\n",
       "      <td>False</td>\n",
       "      <td>Day</td>\n",
       "      <td>Day</td>\n",
       "      <td>Day</td>\n",
       "      <td>Day</td>\n",
       "    </tr>\n",
       "    <tr>\n",
       "      <th>2845340</th>\n",
       "      <td>A-2845341</td>\n",
       "      <td>2</td>\n",
       "      <td>2019-08-23 19:00:21</td>\n",
       "      <td>2019-08-23 19:29:42</td>\n",
       "      <td>33.992460</td>\n",
       "      <td>-118.403020</td>\n",
       "      <td>33.983110</td>\n",
       "      <td>-118.395650</td>\n",
       "      <td>0.772</td>\n",
       "      <td>At CA-90/Marina Fwy/Jefferson Blvd - Accident.</td>\n",
       "      <td>...</td>\n",
       "      <td>False</td>\n",
       "      <td>False</td>\n",
       "      <td>False</td>\n",
       "      <td>False</td>\n",
       "      <td>False</td>\n",
       "      <td>False</td>\n",
       "      <td>Day</td>\n",
       "      <td>Day</td>\n",
       "      <td>Day</td>\n",
       "      <td>Day</td>\n",
       "    </tr>\n",
       "    <tr>\n",
       "      <th>2845341</th>\n",
       "      <td>A-2845342</td>\n",
       "      <td>2</td>\n",
       "      <td>2019-08-23 18:52:06</td>\n",
       "      <td>2019-08-23 19:21:31</td>\n",
       "      <td>34.133930</td>\n",
       "      <td>-117.230920</td>\n",
       "      <td>34.137360</td>\n",
       "      <td>-117.239340</td>\n",
       "      <td>0.537</td>\n",
       "      <td>At Highland Ave/Arden Ave - Accident.</td>\n",
       "      <td>...</td>\n",
       "      <td>False</td>\n",
       "      <td>False</td>\n",
       "      <td>False</td>\n",
       "      <td>False</td>\n",
       "      <td>False</td>\n",
       "      <td>False</td>\n",
       "      <td>Day</td>\n",
       "      <td>Day</td>\n",
       "      <td>Day</td>\n",
       "      <td>Day</td>\n",
       "    </tr>\n",
       "  </tbody>\n",
       "</table>\n",
       "<p>2845342 rows × 47 columns</p>\n",
       "</div>"
      ],
      "text/plain": [
       "                ID  Severity           Start_Time             End_Time  \\\n",
       "0              A-1         3  2016-02-08 00:37:08  2016-02-08 06:37:08   \n",
       "1              A-2         2  2016-02-08 05:56:20  2016-02-08 11:56:20   \n",
       "2              A-3         2  2016-02-08 06:15:39  2016-02-08 12:15:39   \n",
       "3              A-4         2  2016-02-08 06:51:45  2016-02-08 12:51:45   \n",
       "4              A-5         3  2016-02-08 07:53:43  2016-02-08 13:53:43   \n",
       "...            ...       ...                  ...                  ...   \n",
       "2845337  A-2845338         2  2019-08-23 18:03:25  2019-08-23 18:32:01   \n",
       "2845338  A-2845339         2  2019-08-23 19:11:30  2019-08-23 19:38:23   \n",
       "2845339  A-2845340         2  2019-08-23 19:00:21  2019-08-23 19:28:49   \n",
       "2845340  A-2845341         2  2019-08-23 19:00:21  2019-08-23 19:29:42   \n",
       "2845341  A-2845342         2  2019-08-23 18:52:06  2019-08-23 19:21:31   \n",
       "\n",
       "         Start_Lat   Start_Lng    End_Lat     End_Lng  Distance(mi)  \\\n",
       "0        40.108910  -83.092860  40.112060  -83.031870         3.230   \n",
       "1        39.865420  -84.062800  39.865010  -84.048730         0.747   \n",
       "2        39.102660  -84.524680  39.102090  -84.523960         0.055   \n",
       "3        41.062130  -81.537840  41.062170  -81.535470         0.123   \n",
       "4        39.172393  -84.492792  39.170476  -84.501798         0.500   \n",
       "...            ...         ...        ...         ...           ...   \n",
       "2845337  34.002480 -117.379360  33.998880 -117.370940         0.543   \n",
       "2845338  32.766960 -117.148060  32.765550 -117.153630         0.338   \n",
       "2845339  33.775450 -117.847790  33.777400 -117.857270         0.561   \n",
       "2845340  33.992460 -118.403020  33.983110 -118.395650         0.772   \n",
       "2845341  34.133930 -117.230920  34.137360 -117.239340         0.537   \n",
       "\n",
       "                                               Description  ...  Roundabout  \\\n",
       "0        Between Sawmill Rd/Exit 20 and OH-315/Olentang...  ...       False   \n",
       "1                       At OH-4/OH-235/Exit 41 - Accident.  ...       False   \n",
       "2                         At I-71/US-50/Exit 1 - Accident.  ...       False   \n",
       "3                          At Dart Ave/Exit 21 - Accident.  ...       False   \n",
       "4                       At Mitchell Ave/Exit 6 - Accident.  ...       False   \n",
       "...                                                    ...  ...         ...   \n",
       "2845337                           At Market St - Accident.  ...       False   \n",
       "2845338    At Camino Del Rio/Mission Center Rd - Accident.  ...       False   \n",
       "2845339  At Glassell St/Grand Ave - Accident. in the ri...  ...       False   \n",
       "2845340     At CA-90/Marina Fwy/Jefferson Blvd - Accident.  ...       False   \n",
       "2845341              At Highland Ave/Arden Ave - Accident.  ...       False   \n",
       "\n",
       "        Station   Stop Traffic_Calming Traffic_Signal Turning_Loop  \\\n",
       "0         False  False           False          False        False   \n",
       "1         False  False           False          False        False   \n",
       "2         False  False           False          False        False   \n",
       "3         False  False           False          False        False   \n",
       "4         False  False           False          False        False   \n",
       "...         ...    ...             ...            ...          ...   \n",
       "2845337   False  False           False          False        False   \n",
       "2845338   False  False           False          False        False   \n",
       "2845339   False  False           False          False        False   \n",
       "2845340   False  False           False          False        False   \n",
       "2845341   False  False           False          False        False   \n",
       "\n",
       "        Sunrise_Sunset Civil_Twilight Nautical_Twilight Astronomical_Twilight  \n",
       "0                Night          Night             Night                 Night  \n",
       "1                Night          Night             Night                 Night  \n",
       "2                Night          Night             Night                   Day  \n",
       "3                Night          Night               Day                   Day  \n",
       "4                  Day            Day               Day                   Day  \n",
       "...                ...            ...               ...                   ...  \n",
       "2845337            Day            Day               Day                   Day  \n",
       "2845338            Day            Day               Day                   Day  \n",
       "2845339            Day            Day               Day                   Day  \n",
       "2845340            Day            Day               Day                   Day  \n",
       "2845341            Day            Day               Day                   Day  \n",
       "\n",
       "[2845342 rows x 47 columns]"
      ]
     },
     "execution_count": 3,
     "metadata": {},
     "output_type": "execute_result"
    }
   ],
   "source": [
    "df"
   ]
  },
  {
   "cell_type": "code",
   "execution_count": 4,
   "id": "caaa539a",
   "metadata": {
    "execution": {
     "iopub.execute_input": "2022-10-22T22:03:57.185937Z",
     "iopub.status.busy": "2022-10-22T22:03:57.185116Z",
     "iopub.status.idle": "2022-10-22T22:03:57.192543Z",
     "shell.execute_reply": "2022-10-22T22:03:57.191752Z"
    },
    "papermill": {
     "duration": 0.022683,
     "end_time": "2022-10-22T22:03:57.194419",
     "exception": false,
     "start_time": "2022-10-22T22:03:57.171736",
     "status": "completed"
    },
    "tags": []
   },
   "outputs": [
    {
     "data": {
      "text/plain": [
       "Index(['ID', 'Severity', 'Start_Time', 'End_Time', 'Start_Lat', 'Start_Lng',\n",
       "       'End_Lat', 'End_Lng', 'Distance(mi)', 'Description', 'Number', 'Street',\n",
       "       'Side', 'City', 'County', 'State', 'Zipcode', 'Country', 'Timezone',\n",
       "       'Airport_Code', 'Weather_Timestamp', 'Temperature(F)', 'Wind_Chill(F)',\n",
       "       'Humidity(%)', 'Pressure(in)', 'Visibility(mi)', 'Wind_Direction',\n",
       "       'Wind_Speed(mph)', 'Precipitation(in)', 'Weather_Condition', 'Amenity',\n",
       "       'Bump', 'Crossing', 'Give_Way', 'Junction', 'No_Exit', 'Railway',\n",
       "       'Roundabout', 'Station', 'Stop', 'Traffic_Calming', 'Traffic_Signal',\n",
       "       'Turning_Loop', 'Sunrise_Sunset', 'Civil_Twilight', 'Nautical_Twilight',\n",
       "       'Astronomical_Twilight'],\n",
       "      dtype='object')"
      ]
     },
     "execution_count": 4,
     "metadata": {},
     "output_type": "execute_result"
    }
   ],
   "source": [
    "df.columns"
   ]
  },
  {
   "cell_type": "code",
   "execution_count": 5,
   "id": "7b40f2e4",
   "metadata": {
    "execution": {
     "iopub.execute_input": "2022-10-22T22:03:57.220681Z",
     "iopub.status.busy": "2022-10-22T22:03:57.220325Z",
     "iopub.status.idle": "2022-10-22T22:03:57.883575Z",
     "shell.execute_reply": "2022-10-22T22:03:57.882780Z"
    },
    "papermill": {
     "duration": 0.678543,
     "end_time": "2022-10-22T22:03:57.885348",
     "exception": false,
     "start_time": "2022-10-22T22:03:57.206805",
     "status": "completed"
    },
    "tags": []
   },
   "outputs": [
    {
     "data": {
      "text/plain": [
       "<bound method DataFrame.info of                 ID  Severity           Start_Time             End_Time  \\\n",
       "0              A-1         3  2016-02-08 00:37:08  2016-02-08 06:37:08   \n",
       "1              A-2         2  2016-02-08 05:56:20  2016-02-08 11:56:20   \n",
       "2              A-3         2  2016-02-08 06:15:39  2016-02-08 12:15:39   \n",
       "3              A-4         2  2016-02-08 06:51:45  2016-02-08 12:51:45   \n",
       "4              A-5         3  2016-02-08 07:53:43  2016-02-08 13:53:43   \n",
       "...            ...       ...                  ...                  ...   \n",
       "2845337  A-2845338         2  2019-08-23 18:03:25  2019-08-23 18:32:01   \n",
       "2845338  A-2845339         2  2019-08-23 19:11:30  2019-08-23 19:38:23   \n",
       "2845339  A-2845340         2  2019-08-23 19:00:21  2019-08-23 19:28:49   \n",
       "2845340  A-2845341         2  2019-08-23 19:00:21  2019-08-23 19:29:42   \n",
       "2845341  A-2845342         2  2019-08-23 18:52:06  2019-08-23 19:21:31   \n",
       "\n",
       "         Start_Lat   Start_Lng    End_Lat     End_Lng  Distance(mi)  \\\n",
       "0        40.108910  -83.092860  40.112060  -83.031870         3.230   \n",
       "1        39.865420  -84.062800  39.865010  -84.048730         0.747   \n",
       "2        39.102660  -84.524680  39.102090  -84.523960         0.055   \n",
       "3        41.062130  -81.537840  41.062170  -81.535470         0.123   \n",
       "4        39.172393  -84.492792  39.170476  -84.501798         0.500   \n",
       "...            ...         ...        ...         ...           ...   \n",
       "2845337  34.002480 -117.379360  33.998880 -117.370940         0.543   \n",
       "2845338  32.766960 -117.148060  32.765550 -117.153630         0.338   \n",
       "2845339  33.775450 -117.847790  33.777400 -117.857270         0.561   \n",
       "2845340  33.992460 -118.403020  33.983110 -118.395650         0.772   \n",
       "2845341  34.133930 -117.230920  34.137360 -117.239340         0.537   \n",
       "\n",
       "                                               Description  ...  Roundabout  \\\n",
       "0        Between Sawmill Rd/Exit 20 and OH-315/Olentang...  ...       False   \n",
       "1                       At OH-4/OH-235/Exit 41 - Accident.  ...       False   \n",
       "2                         At I-71/US-50/Exit 1 - Accident.  ...       False   \n",
       "3                          At Dart Ave/Exit 21 - Accident.  ...       False   \n",
       "4                       At Mitchell Ave/Exit 6 - Accident.  ...       False   \n",
       "...                                                    ...  ...         ...   \n",
       "2845337                           At Market St - Accident.  ...       False   \n",
       "2845338    At Camino Del Rio/Mission Center Rd - Accident.  ...       False   \n",
       "2845339  At Glassell St/Grand Ave - Accident. in the ri...  ...       False   \n",
       "2845340     At CA-90/Marina Fwy/Jefferson Blvd - Accident.  ...       False   \n",
       "2845341              At Highland Ave/Arden Ave - Accident.  ...       False   \n",
       "\n",
       "        Station   Stop Traffic_Calming Traffic_Signal Turning_Loop  \\\n",
       "0         False  False           False          False        False   \n",
       "1         False  False           False          False        False   \n",
       "2         False  False           False          False        False   \n",
       "3         False  False           False          False        False   \n",
       "4         False  False           False          False        False   \n",
       "...         ...    ...             ...            ...          ...   \n",
       "2845337   False  False           False          False        False   \n",
       "2845338   False  False           False          False        False   \n",
       "2845339   False  False           False          False        False   \n",
       "2845340   False  False           False          False        False   \n",
       "2845341   False  False           False          False        False   \n",
       "\n",
       "        Sunrise_Sunset Civil_Twilight Nautical_Twilight Astronomical_Twilight  \n",
       "0                Night          Night             Night                 Night  \n",
       "1                Night          Night             Night                 Night  \n",
       "2                Night          Night             Night                   Day  \n",
       "3                Night          Night               Day                   Day  \n",
       "4                  Day            Day               Day                   Day  \n",
       "...                ...            ...               ...                   ...  \n",
       "2845337            Day            Day               Day                   Day  \n",
       "2845338            Day            Day               Day                   Day  \n",
       "2845339            Day            Day               Day                   Day  \n",
       "2845340            Day            Day               Day                   Day  \n",
       "2845341            Day            Day               Day                   Day  \n",
       "\n",
       "[2845342 rows x 47 columns]>"
      ]
     },
     "execution_count": 5,
     "metadata": {},
     "output_type": "execute_result"
    }
   ],
   "source": [
    "df.info"
   ]
  },
  {
   "cell_type": "code",
   "execution_count": 6,
   "id": "386fc41e",
   "metadata": {
    "execution": {
     "iopub.execute_input": "2022-10-22T22:03:57.911998Z",
     "iopub.status.busy": "2022-10-22T22:03:57.911653Z",
     "iopub.status.idle": "2022-10-22T22:03:59.192649Z",
     "shell.execute_reply": "2022-10-22T22:03:59.191836Z"
    },
    "papermill": {
     "duration": 1.296551,
     "end_time": "2022-10-22T22:03:59.194557",
     "exception": false,
     "start_time": "2022-10-22T22:03:57.898006",
     "status": "completed"
    },
    "tags": []
   },
   "outputs": [
    {
     "data": {
      "text/html": [
       "<div>\n",
       "<style scoped>\n",
       "    .dataframe tbody tr th:only-of-type {\n",
       "        vertical-align: middle;\n",
       "    }\n",
       "\n",
       "    .dataframe tbody tr th {\n",
       "        vertical-align: top;\n",
       "    }\n",
       "\n",
       "    .dataframe thead th {\n",
       "        text-align: right;\n",
       "    }\n",
       "</style>\n",
       "<table border=\"1\" class=\"dataframe\">\n",
       "  <thead>\n",
       "    <tr style=\"text-align: right;\">\n",
       "      <th></th>\n",
       "      <th>Severity</th>\n",
       "      <th>Start_Lat</th>\n",
       "      <th>Start_Lng</th>\n",
       "      <th>End_Lat</th>\n",
       "      <th>End_Lng</th>\n",
       "      <th>Distance(mi)</th>\n",
       "      <th>Number</th>\n",
       "      <th>Temperature(F)</th>\n",
       "      <th>Wind_Chill(F)</th>\n",
       "      <th>Humidity(%)</th>\n",
       "      <th>Pressure(in)</th>\n",
       "      <th>Visibility(mi)</th>\n",
       "      <th>Wind_Speed(mph)</th>\n",
       "      <th>Precipitation(in)</th>\n",
       "    </tr>\n",
       "  </thead>\n",
       "  <tbody>\n",
       "    <tr>\n",
       "      <th>count</th>\n",
       "      <td>2.845342e+06</td>\n",
       "      <td>2.845342e+06</td>\n",
       "      <td>2.845342e+06</td>\n",
       "      <td>2.845342e+06</td>\n",
       "      <td>2.845342e+06</td>\n",
       "      <td>2.845342e+06</td>\n",
       "      <td>1.101431e+06</td>\n",
       "      <td>2.776068e+06</td>\n",
       "      <td>2.375699e+06</td>\n",
       "      <td>2.772250e+06</td>\n",
       "      <td>2.786142e+06</td>\n",
       "      <td>2.774796e+06</td>\n",
       "      <td>2.687398e+06</td>\n",
       "      <td>2.295884e+06</td>\n",
       "    </tr>\n",
       "    <tr>\n",
       "      <th>mean</th>\n",
       "      <td>2.137572e+00</td>\n",
       "      <td>3.624520e+01</td>\n",
       "      <td>-9.711463e+01</td>\n",
       "      <td>3.624532e+01</td>\n",
       "      <td>-9.711439e+01</td>\n",
       "      <td>7.026779e-01</td>\n",
       "      <td>8.089408e+03</td>\n",
       "      <td>6.179356e+01</td>\n",
       "      <td>5.965823e+01</td>\n",
       "      <td>6.436545e+01</td>\n",
       "      <td>2.947234e+01</td>\n",
       "      <td>9.099391e+00</td>\n",
       "      <td>7.395044e+00</td>\n",
       "      <td>7.016940e-03</td>\n",
       "    </tr>\n",
       "    <tr>\n",
       "      <th>std</th>\n",
       "      <td>4.787216e-01</td>\n",
       "      <td>5.363797e+00</td>\n",
       "      <td>1.831782e+01</td>\n",
       "      <td>5.363873e+00</td>\n",
       "      <td>1.831763e+01</td>\n",
       "      <td>1.560361e+00</td>\n",
       "      <td>1.836009e+04</td>\n",
       "      <td>1.862263e+01</td>\n",
       "      <td>2.116097e+01</td>\n",
       "      <td>2.287457e+01</td>\n",
       "      <td>1.045286e+00</td>\n",
       "      <td>2.717546e+00</td>\n",
       "      <td>5.527454e+00</td>\n",
       "      <td>9.348831e-02</td>\n",
       "    </tr>\n",
       "    <tr>\n",
       "      <th>min</th>\n",
       "      <td>1.000000e+00</td>\n",
       "      <td>2.456603e+01</td>\n",
       "      <td>-1.245481e+02</td>\n",
       "      <td>2.456601e+01</td>\n",
       "      <td>-1.245457e+02</td>\n",
       "      <td>0.000000e+00</td>\n",
       "      <td>0.000000e+00</td>\n",
       "      <td>-8.900000e+01</td>\n",
       "      <td>-8.900000e+01</td>\n",
       "      <td>1.000000e+00</td>\n",
       "      <td>0.000000e+00</td>\n",
       "      <td>0.000000e+00</td>\n",
       "      <td>0.000000e+00</td>\n",
       "      <td>0.000000e+00</td>\n",
       "    </tr>\n",
       "    <tr>\n",
       "      <th>25%</th>\n",
       "      <td>2.000000e+00</td>\n",
       "      <td>3.344517e+01</td>\n",
       "      <td>-1.180331e+02</td>\n",
       "      <td>3.344628e+01</td>\n",
       "      <td>-1.180333e+02</td>\n",
       "      <td>5.200000e-02</td>\n",
       "      <td>1.270000e+03</td>\n",
       "      <td>5.000000e+01</td>\n",
       "      <td>4.600000e+01</td>\n",
       "      <td>4.800000e+01</td>\n",
       "      <td>2.931000e+01</td>\n",
       "      <td>1.000000e+01</td>\n",
       "      <td>3.500000e+00</td>\n",
       "      <td>0.000000e+00</td>\n",
       "    </tr>\n",
       "    <tr>\n",
       "      <th>50%</th>\n",
       "      <td>2.000000e+00</td>\n",
       "      <td>3.609861e+01</td>\n",
       "      <td>-9.241808e+01</td>\n",
       "      <td>3.609799e+01</td>\n",
       "      <td>-9.241772e+01</td>\n",
       "      <td>2.440000e-01</td>\n",
       "      <td>4.007000e+03</td>\n",
       "      <td>6.400000e+01</td>\n",
       "      <td>6.300000e+01</td>\n",
       "      <td>6.700000e+01</td>\n",
       "      <td>2.982000e+01</td>\n",
       "      <td>1.000000e+01</td>\n",
       "      <td>7.000000e+00</td>\n",
       "      <td>0.000000e+00</td>\n",
       "    </tr>\n",
       "    <tr>\n",
       "      <th>75%</th>\n",
       "      <td>2.000000e+00</td>\n",
       "      <td>4.016024e+01</td>\n",
       "      <td>-8.037243e+01</td>\n",
       "      <td>4.016105e+01</td>\n",
       "      <td>-8.037338e+01</td>\n",
       "      <td>7.640000e-01</td>\n",
       "      <td>9.567000e+03</td>\n",
       "      <td>7.600000e+01</td>\n",
       "      <td>7.600000e+01</td>\n",
       "      <td>8.300000e+01</td>\n",
       "      <td>3.001000e+01</td>\n",
       "      <td>1.000000e+01</td>\n",
       "      <td>1.000000e+01</td>\n",
       "      <td>0.000000e+00</td>\n",
       "    </tr>\n",
       "    <tr>\n",
       "      <th>max</th>\n",
       "      <td>4.000000e+00</td>\n",
       "      <td>4.900058e+01</td>\n",
       "      <td>-6.711317e+01</td>\n",
       "      <td>4.907500e+01</td>\n",
       "      <td>-6.710924e+01</td>\n",
       "      <td>1.551860e+02</td>\n",
       "      <td>9.999997e+06</td>\n",
       "      <td>1.960000e+02</td>\n",
       "      <td>1.960000e+02</td>\n",
       "      <td>1.000000e+02</td>\n",
       "      <td>5.890000e+01</td>\n",
       "      <td>1.400000e+02</td>\n",
       "      <td>1.087000e+03</td>\n",
       "      <td>2.400000e+01</td>\n",
       "    </tr>\n",
       "  </tbody>\n",
       "</table>\n",
       "</div>"
      ],
      "text/plain": [
       "           Severity     Start_Lat     Start_Lng       End_Lat       End_Lng  \\\n",
       "count  2.845342e+06  2.845342e+06  2.845342e+06  2.845342e+06  2.845342e+06   \n",
       "mean   2.137572e+00  3.624520e+01 -9.711463e+01  3.624532e+01 -9.711439e+01   \n",
       "std    4.787216e-01  5.363797e+00  1.831782e+01  5.363873e+00  1.831763e+01   \n",
       "min    1.000000e+00  2.456603e+01 -1.245481e+02  2.456601e+01 -1.245457e+02   \n",
       "25%    2.000000e+00  3.344517e+01 -1.180331e+02  3.344628e+01 -1.180333e+02   \n",
       "50%    2.000000e+00  3.609861e+01 -9.241808e+01  3.609799e+01 -9.241772e+01   \n",
       "75%    2.000000e+00  4.016024e+01 -8.037243e+01  4.016105e+01 -8.037338e+01   \n",
       "max    4.000000e+00  4.900058e+01 -6.711317e+01  4.907500e+01 -6.710924e+01   \n",
       "\n",
       "       Distance(mi)        Number  Temperature(F)  Wind_Chill(F)  \\\n",
       "count  2.845342e+06  1.101431e+06    2.776068e+06   2.375699e+06   \n",
       "mean   7.026779e-01  8.089408e+03    6.179356e+01   5.965823e+01   \n",
       "std    1.560361e+00  1.836009e+04    1.862263e+01   2.116097e+01   \n",
       "min    0.000000e+00  0.000000e+00   -8.900000e+01  -8.900000e+01   \n",
       "25%    5.200000e-02  1.270000e+03    5.000000e+01   4.600000e+01   \n",
       "50%    2.440000e-01  4.007000e+03    6.400000e+01   6.300000e+01   \n",
       "75%    7.640000e-01  9.567000e+03    7.600000e+01   7.600000e+01   \n",
       "max    1.551860e+02  9.999997e+06    1.960000e+02   1.960000e+02   \n",
       "\n",
       "        Humidity(%)  Pressure(in)  Visibility(mi)  Wind_Speed(mph)  \\\n",
       "count  2.772250e+06  2.786142e+06    2.774796e+06     2.687398e+06   \n",
       "mean   6.436545e+01  2.947234e+01    9.099391e+00     7.395044e+00   \n",
       "std    2.287457e+01  1.045286e+00    2.717546e+00     5.527454e+00   \n",
       "min    1.000000e+00  0.000000e+00    0.000000e+00     0.000000e+00   \n",
       "25%    4.800000e+01  2.931000e+01    1.000000e+01     3.500000e+00   \n",
       "50%    6.700000e+01  2.982000e+01    1.000000e+01     7.000000e+00   \n",
       "75%    8.300000e+01  3.001000e+01    1.000000e+01     1.000000e+01   \n",
       "max    1.000000e+02  5.890000e+01    1.400000e+02     1.087000e+03   \n",
       "\n",
       "       Precipitation(in)  \n",
       "count       2.295884e+06  \n",
       "mean        7.016940e-03  \n",
       "std         9.348831e-02  \n",
       "min         0.000000e+00  \n",
       "25%         0.000000e+00  \n",
       "50%         0.000000e+00  \n",
       "75%         0.000000e+00  \n",
       "max         2.400000e+01  "
      ]
     },
     "execution_count": 6,
     "metadata": {},
     "output_type": "execute_result"
    }
   ],
   "source": [
    "df.describe()"
   ]
  },
  {
   "cell_type": "markdown",
   "id": "d3f1f38b",
   "metadata": {
    "papermill": {
     "duration": 0.012522,
     "end_time": "2022-10-22T22:03:59.219965",
     "exception": false,
     "start_time": "2022-10-22T22:03:59.207443",
     "status": "completed"
    },
    "tags": []
   },
   "source": [
    "numeric_df = ['int16', 'int32', 'int64', 'float16', 'float32', 'float64']\n",
    "\n",
    "newdf = df.select_dtypes(include=numerics)\n",
    "len(numeric_df.columns)"
   ]
  },
  {
   "cell_type": "markdown",
   "id": "f9f7f607",
   "metadata": {
    "papermill": {
     "duration": 0.012411,
     "end_time": "2022-10-22T22:03:59.244828",
     "exception": false,
     "start_time": "2022-10-22T22:03:59.232417",
     "status": "completed"
    },
    "tags": []
   },
   "source": [
    "### Sorting sum of null values in decending order"
   ]
  },
  {
   "cell_type": "code",
   "execution_count": 7,
   "id": "0ba963f4",
   "metadata": {
    "execution": {
     "iopub.execute_input": "2022-10-22T22:03:59.271544Z",
     "iopub.status.busy": "2022-10-22T22:03:59.270930Z",
     "iopub.status.idle": "2022-10-22T22:04:01.297676Z",
     "shell.execute_reply": "2022-10-22T22:04:01.296698Z"
    },
    "papermill": {
     "duration": 2.042115,
     "end_time": "2022-10-22T22:04:01.299480",
     "exception": false,
     "start_time": "2022-10-22T22:03:59.257365",
     "status": "completed"
    },
    "tags": []
   },
   "outputs": [
    {
     "data": {
      "text/plain": [
       "Number                   1743911\n",
       "Precipitation(in)         549458\n",
       "Wind_Chill(F)             469643\n",
       "Wind_Speed(mph)           157944\n",
       "Wind_Direction             73775\n",
       "Humidity(%)                73092\n",
       "Weather_Condition          70636\n",
       "Visibility(mi)             70546\n",
       "Temperature(F)             69274\n",
       "Pressure(in)               59200\n",
       "Weather_Timestamp          50736\n",
       "Airport_Code                9549\n",
       "Timezone                    3659\n",
       "Nautical_Twilight           2867\n",
       "Civil_Twilight              2867\n",
       "Sunrise_Sunset              2867\n",
       "Astronomical_Twilight       2867\n",
       "Zipcode                     1319\n",
       "City                         137\n",
       "Street                         2\n",
       "Country                        0\n",
       "Junction                       0\n",
       "Start_Time                     0\n",
       "End_Time                       0\n",
       "Start_Lat                      0\n",
       "Turning_Loop                   0\n",
       "Traffic_Signal                 0\n",
       "Traffic_Calming                0\n",
       "Stop                           0\n",
       "Station                        0\n",
       "Roundabout                     0\n",
       "Railway                        0\n",
       "No_Exit                        0\n",
       "Crossing                       0\n",
       "Give_Way                       0\n",
       "Bump                           0\n",
       "Amenity                        0\n",
       "Start_Lng                      0\n",
       "End_Lat                        0\n",
       "End_Lng                        0\n",
       "Distance(mi)                   0\n",
       "Description                    0\n",
       "Severity                       0\n",
       "Side                           0\n",
       "County                         0\n",
       "State                          0\n",
       "ID                             0\n",
       "dtype: int64"
      ]
     },
     "execution_count": 7,
     "metadata": {},
     "output_type": "execute_result"
    }
   ],
   "source": [
    "df.isna().sum().sort_values(ascending= False)"
   ]
  },
  {
   "cell_type": "markdown",
   "id": "0965ef7a",
   "metadata": {
    "papermill": {
     "duration": 0.012626,
     "end_time": "2022-10-22T22:04:01.325345",
     "exception": false,
     "start_time": "2022-10-22T22:04:01.312719",
     "status": "completed"
    },
    "tags": []
   },
   "source": [
    "## Getting the persentages of the missing values"
   ]
  },
  {
   "cell_type": "code",
   "execution_count": 8,
   "id": "838e933a",
   "metadata": {
    "execution": {
     "iopub.execute_input": "2022-10-22T22:04:01.354105Z",
     "iopub.status.busy": "2022-10-22T22:04:01.353780Z",
     "iopub.status.idle": "2022-10-22T22:04:03.371293Z",
     "shell.execute_reply": "2022-10-22T22:04:03.370415Z"
    },
    "papermill": {
     "duration": 2.034214,
     "end_time": "2022-10-22T22:04:03.373175",
     "exception": false,
     "start_time": "2022-10-22T22:04:01.338961",
     "status": "completed"
    },
    "tags": []
   },
   "outputs": [
    {
     "data": {
      "text/plain": [
       "Number                   6.129003e-01\n",
       "Precipitation(in)        1.931079e-01\n",
       "Wind_Chill(F)            1.650568e-01\n",
       "Wind_Speed(mph)          5.550967e-02\n",
       "Wind_Direction           2.592834e-02\n",
       "Humidity(%)              2.568830e-02\n",
       "Weather_Condition        2.482514e-02\n",
       "Visibility(mi)           2.479350e-02\n",
       "Temperature(F)           2.434646e-02\n",
       "Pressure(in)             2.080593e-02\n",
       "Weather_Timestamp        1.783125e-02\n",
       "Airport_Code             3.356011e-03\n",
       "Timezone                 1.285961e-03\n",
       "Nautical_Twilight        1.007612e-03\n",
       "Civil_Twilight           1.007612e-03\n",
       "Sunrise_Sunset           1.007612e-03\n",
       "Astronomical_Twilight    1.007612e-03\n",
       "Zipcode                  4.635647e-04\n",
       "City                     4.814887e-05\n",
       "Street                   7.029032e-07\n",
       "Country                  0.000000e+00\n",
       "Junction                 0.000000e+00\n",
       "Start_Time               0.000000e+00\n",
       "End_Time                 0.000000e+00\n",
       "Start_Lat                0.000000e+00\n",
       "Turning_Loop             0.000000e+00\n",
       "Traffic_Signal           0.000000e+00\n",
       "Traffic_Calming          0.000000e+00\n",
       "Stop                     0.000000e+00\n",
       "Station                  0.000000e+00\n",
       "Roundabout               0.000000e+00\n",
       "Railway                  0.000000e+00\n",
       "No_Exit                  0.000000e+00\n",
       "Crossing                 0.000000e+00\n",
       "Give_Way                 0.000000e+00\n",
       "Bump                     0.000000e+00\n",
       "Amenity                  0.000000e+00\n",
       "Start_Lng                0.000000e+00\n",
       "End_Lat                  0.000000e+00\n",
       "End_Lng                  0.000000e+00\n",
       "Distance(mi)             0.000000e+00\n",
       "Description              0.000000e+00\n",
       "Severity                 0.000000e+00\n",
       "Side                     0.000000e+00\n",
       "County                   0.000000e+00\n",
       "State                    0.000000e+00\n",
       "ID                       0.000000e+00\n",
       "dtype: float64"
      ]
     },
     "execution_count": 8,
     "metadata": {},
     "output_type": "execute_result"
    }
   ],
   "source": [
    "missing_percentages = df.isna().sum().sort_values(ascending = False) / len(df)\n",
    "missing_percentages"
   ]
  },
  {
   "cell_type": "code",
   "execution_count": 9,
   "id": "bba0f1e6",
   "metadata": {
    "execution": {
     "iopub.execute_input": "2022-10-22T22:04:03.401076Z",
     "iopub.status.busy": "2022-10-22T22:04:03.400750Z",
     "iopub.status.idle": "2022-10-22T22:04:03.406525Z",
     "shell.execute_reply": "2022-10-22T22:04:03.405669Z"
    },
    "papermill": {
     "duration": 0.021765,
     "end_time": "2022-10-22T22:04:03.408226",
     "exception": false,
     "start_time": "2022-10-22T22:04:03.386461",
     "status": "completed"
    },
    "tags": []
   },
   "outputs": [
    {
     "data": {
      "text/plain": [
       "pandas.core.series.Series"
      ]
     },
     "execution_count": 9,
     "metadata": {},
     "output_type": "execute_result"
    }
   ],
   "source": [
    "type(missing_percentages)\n"
   ]
  },
  {
   "cell_type": "markdown",
   "id": "fa690cc1",
   "metadata": {
    "papermill": {
     "duration": 0.012758,
     "end_time": "2022-10-22T22:04:03.434060",
     "exception": false,
     "start_time": "2022-10-22T22:04:03.421302",
     "status": "completed"
    },
    "tags": []
   },
   "source": [
    "Now we can use this boolean series of true and false and we will use it as an index \n",
    "[missing_percentages != 0]"
   ]
  },
  {
   "cell_type": "code",
   "execution_count": 10,
   "id": "d06cbb4a",
   "metadata": {
    "execution": {
     "iopub.execute_input": "2022-10-22T22:04:03.460904Z",
     "iopub.status.busy": "2022-10-22T22:04:03.460611Z",
     "iopub.status.idle": "2022-10-22T22:04:03.467718Z",
     "shell.execute_reply": "2022-10-22T22:04:03.466925Z"
    },
    "papermill": {
     "duration": 0.022536,
     "end_time": "2022-10-22T22:04:03.469397",
     "exception": false,
     "start_time": "2022-10-22T22:04:03.446861",
     "status": "completed"
    },
    "tags": []
   },
   "outputs": [
    {
     "data": {
      "text/plain": [
       "Number                    True\n",
       "Precipitation(in)         True\n",
       "Wind_Chill(F)             True\n",
       "Wind_Speed(mph)           True\n",
       "Wind_Direction            True\n",
       "Humidity(%)               True\n",
       "Weather_Condition         True\n",
       "Visibility(mi)            True\n",
       "Temperature(F)            True\n",
       "Pressure(in)              True\n",
       "Weather_Timestamp         True\n",
       "Airport_Code              True\n",
       "Timezone                  True\n",
       "Nautical_Twilight         True\n",
       "Civil_Twilight            True\n",
       "Sunrise_Sunset            True\n",
       "Astronomical_Twilight     True\n",
       "Zipcode                   True\n",
       "City                      True\n",
       "Street                    True\n",
       "Country                  False\n",
       "Junction                 False\n",
       "Start_Time               False\n",
       "End_Time                 False\n",
       "Start_Lat                False\n",
       "Turning_Loop             False\n",
       "Traffic_Signal           False\n",
       "Traffic_Calming          False\n",
       "Stop                     False\n",
       "Station                  False\n",
       "Roundabout               False\n",
       "Railway                  False\n",
       "No_Exit                  False\n",
       "Crossing                 False\n",
       "Give_Way                 False\n",
       "Bump                     False\n",
       "Amenity                  False\n",
       "Start_Lng                False\n",
       "End_Lat                  False\n",
       "End_Lng                  False\n",
       "Distance(mi)             False\n",
       "Description              False\n",
       "Severity                 False\n",
       "Side                     False\n",
       "County                   False\n",
       "State                    False\n",
       "ID                       False\n",
       "dtype: bool"
      ]
     },
     "execution_count": 10,
     "metadata": {},
     "output_type": "execute_result"
    }
   ],
   "source": [
    "missing_percentages != 0"
   ]
  },
  {
   "cell_type": "markdown",
   "id": "c2271383",
   "metadata": {
    "papermill": {
     "duration": 0.012931,
     "end_time": "2022-10-22T22:04:03.495459",
     "exception": false,
     "start_time": "2022-10-22T22:04:03.482528",
     "status": "completed"
    },
    "tags": []
   },
   "source": [
    "We will plot this on the bar chart"
   ]
  },
  {
   "cell_type": "code",
   "execution_count": 11,
   "id": "e1c221d9",
   "metadata": {
    "execution": {
     "iopub.execute_input": "2022-10-22T22:04:03.523674Z",
     "iopub.status.busy": "2022-10-22T22:04:03.523003Z",
     "iopub.status.idle": "2022-10-22T22:04:03.780478Z",
     "shell.execute_reply": "2022-10-22T22:04:03.779529Z"
    },
    "papermill": {
     "duration": 0.273641,
     "end_time": "2022-10-22T22:04:03.782313",
     "exception": false,
     "start_time": "2022-10-22T22:04:03.508672",
     "status": "completed"
    },
    "tags": []
   },
   "outputs": [
    {
     "data": {
      "text/plain": [
       "<AxesSubplot:>"
      ]
     },
     "execution_count": 11,
     "metadata": {},
     "output_type": "execute_result"
    },
    {
     "data": {
      "image/png": "[encoded data removed]",
      "text/plain": [
       "<Figure size 432x288 with 1 Axes>"
      ]
     },
     "metadata": {
      "needs_background": "light"
     },
     "output_type": "display_data"
    }
   ],
   "source": [
    "missing_percentages[missing_percentages != 0].plot(kind='barh')"
   ]
  },
  {
   "cell_type": "markdown",
   "id": "5dfe7b3d",
   "metadata": {
    "papermill": {
     "duration": 0.013341,
     "end_time": "2022-10-22T22:04:03.809493",
     "exception": false,
     "start_time": "2022-10-22T22:04:03.796152",
     "status": "completed"
    },
    "tags": []
   },
   "source": [
    "Now we will remove the TMC, Number, End_lng, End_lat as we will not be using them."
   ]
  },
  {
   "cell_type": "markdown",
   "id": "bbde22e8",
   "metadata": {
    "papermill": {
     "duration": 0.013329,
     "end_time": "2022-10-22T22:04:03.836175",
     "exception": false,
     "start_time": "2022-10-22T22:04:03.822846",
     "status": "completed"
    },
    "tags": []
   },
   "source": [
    "df.drop(['Number','Wind_Chill(F)','TMC','End_lng', 'End_lat'],axis=1)\n",
    "df"
   ]
  },
  {
   "cell_type": "markdown",
   "id": "bcef5207",
   "metadata": {
    "papermill": {
     "duration": 0.013359,
     "end_time": "2022-10-22T22:04:03.863202",
     "exception": false,
     "start_time": "2022-10-22T22:04:03.849843",
     "status": "completed"
    },
    "tags": []
   },
   "source": [
    "# 2. Exploratory analysis & visualization using Matplotlib & Seaborn"
   ]
  },
  {
   "cell_type": "markdown",
   "id": "176cb18e",
   "metadata": {
    "papermill": {
     "duration": 0.013364,
     "end_time": "2022-10-22T22:04:03.890109",
     "exception": false,
     "start_time": "2022-10-22T22:04:03.876745",
     "status": "completed"
    },
    "tags": []
   },
   "source": [
    "Numeric Columns we can analyse\n",
    "1. City\n",
    "2. Start Time\n",
    "3. Start Lat, Start Long\n",
    "4. Tempature\n",
    "5. Weather condition"
   ]
  },
  {
   "cell_type": "code",
   "execution_count": 12,
   "id": "7436b827",
   "metadata": {
    "execution": {
     "iopub.execute_input": "2022-10-22T22:04:03.919067Z",
     "iopub.status.busy": "2022-10-22T22:04:03.918742Z",
     "iopub.status.idle": "2022-10-22T22:04:03.925198Z",
     "shell.execute_reply": "2022-10-22T22:04:03.924423Z"
    },
    "papermill": {
     "duration": 0.022999,
     "end_time": "2022-10-22T22:04:03.926859",
     "exception": false,
     "start_time": "2022-10-22T22:04:03.903860",
     "status": "completed"
    },
    "tags": []
   },
   "outputs": [
    {
     "data": {
      "text/plain": [
       "Index(['ID', 'Severity', 'Start_Time', 'End_Time', 'Start_Lat', 'Start_Lng',\n",
       "       'End_Lat', 'End_Lng', 'Distance(mi)', 'Description', 'Number', 'Street',\n",
       "       'Side', 'City', 'County', 'State', 'Zipcode', 'Country', 'Timezone',\n",
       "       'Airport_Code', 'Weather_Timestamp', 'Temperature(F)', 'Wind_Chill(F)',\n",
       "       'Humidity(%)', 'Pressure(in)', 'Visibility(mi)', 'Wind_Direction',\n",
       "       'Wind_Speed(mph)', 'Precipitation(in)', 'Weather_Condition', 'Amenity',\n",
       "       'Bump', 'Crossing', 'Give_Way', 'Junction', 'No_Exit', 'Railway',\n",
       "       'Roundabout', 'Station', 'Stop', 'Traffic_Calming', 'Traffic_Signal',\n",
       "       'Turning_Loop', 'Sunrise_Sunset', 'Civil_Twilight', 'Nautical_Twilight',\n",
       "       'Astronomical_Twilight'],\n",
       "      dtype='object')"
      ]
     },
     "execution_count": 12,
     "metadata": {},
     "output_type": "execute_result"
    }
   ],
   "source": [
    "df.columns"
   ]
  },
  {
   "cell_type": "code",
   "execution_count": 13,
   "id": "b8f5f07c",
   "metadata": {
    "execution": {
     "iopub.execute_input": "2022-10-22T22:04:03.955859Z",
     "iopub.status.busy": "2022-10-22T22:04:03.955557Z",
     "iopub.status.idle": "2022-10-22T22:04:04.159280Z",
     "shell.execute_reply": "2022-10-22T22:04:04.158427Z"
    },
    "papermill": {
     "duration": 0.220278,
     "end_time": "2022-10-22T22:04:04.160973",
     "exception": false,
     "start_time": "2022-10-22T22:04:03.940695",
     "status": "completed"
    },
    "tags": []
   },
   "outputs": [
    {
     "data": {
      "text/plain": [
       "11682"
      ]
     },
     "execution_count": 13,
     "metadata": {},
     "output_type": "execute_result"
    }
   ],
   "source": [
    "cities = df.City.unique()\n",
    "\n",
    "len(cities)"
   ]
  },
  {
   "cell_type": "markdown",
   "id": "b2f4da1e",
   "metadata": {
    "papermill": {
     "duration": 0.013559,
     "end_time": "2022-10-22T22:04:04.188833",
     "exception": false,
     "start_time": "2022-10-22T22:04:04.175274",
     "status": "completed"
    },
    "tags": []
   },
   "source": [
    "Getting the top cities by accident adn plotting them on a horizontal chart."
   ]
  },
  {
   "cell_type": "code",
   "execution_count": 14,
   "id": "51731a4b",
   "metadata": {
    "execution": {
     "iopub.execute_input": "2022-10-22T22:04:04.222191Z",
     "iopub.status.busy": "2022-10-22T22:04:04.221116Z",
     "iopub.status.idle": "2022-10-22T22:04:04.641841Z",
     "shell.execute_reply": "2022-10-22T22:04:04.640790Z"
    },
    "papermill": {
     "duration": 0.439367,
     "end_time": "2022-10-22T22:04:04.643610",
     "exception": false,
     "start_time": "2022-10-22T22:04:04.204243",
     "status": "completed"
    },
    "tags": []
   },
   "outputs": [
    {
     "data": {
      "text/plain": [
       "<AxesSubplot:>"
      ]
     },
     "execution_count": 14,
     "metadata": {},
     "output_type": "execute_result"
    },
    {
     "data": {
      "image/png": "[encoded data removed]",
      "text/plain": [
       "<Figure size 432x288 with 1 Axes>"
      ]
     },
     "metadata": {
      "needs_background": "light"
     },
     "output_type": "display_data"
    }
   ],
   "source": [
    "cities_by_accident = df.City.value_counts()\n",
    "cities_by_accident[:20].plot(kind='barh')"
   ]
  },
  {
   "cell_type": "markdown",
   "id": "b88ccba6",
   "metadata": {
    "papermill": {
     "duration": 0.013889,
     "end_time": "2022-10-22T22:04:04.671788",
     "exception": false,
     "start_time": "2022-10-22T22:04:04.657899",
     "status": "completed"
    },
    "tags": []
   },
   "source": [
    "Checking if the most populated city NYC is there in the data."
   ]
  },
  {
   "cell_type": "markdown",
   "id": "0556077f",
   "metadata": {
    "papermill": {
     "duration": 0.015298,
     "end_time": "2022-10-22T22:04:04.701231",
     "exception": false,
     "start_time": "2022-10-22T22:04:04.685933",
     "status": "completed"
    },
    "tags": []
   },
   "source": [
    "'New York' in df.cities"
   ]
  },
  {
   "cell_type": "code",
   "execution_count": 15,
   "id": "caf997c1",
   "metadata": {
    "execution": {
     "iopub.execute_input": "2022-10-22T22:04:04.736800Z",
     "iopub.status.busy": "2022-10-22T22:04:04.736062Z",
     "iopub.status.idle": "2022-10-22T22:04:05.483044Z",
     "shell.execute_reply": "2022-10-22T22:04:05.482094Z"
    },
    "papermill": {
     "duration": 0.767395,
     "end_time": "2022-10-22T22:04:05.485443",
     "exception": false,
     "start_time": "2022-10-22T22:04:04.718048",
     "status": "completed"
    },
    "tags": []
   },
   "outputs": [],
   "source": [
    "import seaborn as sns\n",
    "sns.set_style(\"darkgrid\")"
   ]
  },
  {
   "cell_type": "code",
   "execution_count": 16,
   "id": "259ed517",
   "metadata": {
    "execution": {
     "iopub.execute_input": "2022-10-22T22:04:05.516894Z",
     "iopub.status.busy": "2022-10-22T22:04:05.515976Z",
     "iopub.status.idle": "2022-10-22T22:04:05.796641Z",
     "shell.execute_reply": "2022-10-22T22:04:05.795898Z"
    },
    "papermill": {
     "duration": 0.298353,
     "end_time": "2022-10-22T22:04:05.798629",
     "exception": false,
     "start_time": "2022-10-22T22:04:05.500276",
     "status": "completed"
    },
    "tags": []
   },
   "outputs": [
    {
     "name": "stderr",
     "output_type": "stream",
     "text": [
      "/opt/conda/lib/python3.7/site-packages/seaborn/distributions.py:2619: FutureWarning: `distplot` is a deprecated function and will be removed in a future version. Please adapt your code to use either `displot` (a figure-level function with similar flexibility) or `histplot` (an axes-level function for histograms).\n",
      "  warnings.warn(msg, FutureWarning)\n"
     ]
    },
    {
     "data": {
      "text/plain": [
       "<AxesSubplot:xlabel='City', ylabel='Density'>"
      ]
     },
     "execution_count": 16,
     "metadata": {},
     "output_type": "execute_result"
    },
    {
     "data": {
      "image/png": "[encoded data removed]",
      "text/plain": [
       "<Figure size 432x288 with 1 Axes>"
      ]
     },
     "metadata": {},
     "output_type": "display_data"
    }
   ],
   "source": [
    "sns.distplot(cities_by_accident[:100])"
   ]
  },
  {
   "cell_type": "markdown",
   "id": "43d3f290",
   "metadata": {
    "papermill": {
     "duration": 0.014486,
     "end_time": "2022-10-22T22:04:05.827928",
     "exception": false,
     "start_time": "2022-10-22T22:04:05.813442",
     "status": "completed"
    },
    "tags": []
   },
   "source": [
    "We will now create two bucket\n",
    "high accient cities >1000 accidents\n",
    "Low accident cities <1000 accidents"
   ]
  },
  {
   "cell_type": "code",
   "execution_count": 17,
   "id": "fe2b5f52",
   "metadata": {
    "execution": {
     "iopub.execute_input": "2022-10-22T22:04:05.859046Z",
     "iopub.status.busy": "2022-10-22T22:04:05.858306Z",
     "iopub.status.idle": "2022-10-22T22:04:05.862975Z",
     "shell.execute_reply": "2022-10-22T22:04:05.862401Z"
    },
    "papermill": {
     "duration": 0.021877,
     "end_time": "2022-10-22T22:04:05.864466",
     "exception": false,
     "start_time": "2022-10-22T22:04:05.842589",
     "status": "completed"
    },
    "tags": []
   },
   "outputs": [],
   "source": [
    "high_accident_cities = cities_by_accident[cities_by_accident >= 1000]\n",
    "low_accident_cities = cities_by_accident[cities_by_accident < 1000]\n"
   ]
  },
  {
   "cell_type": "markdown",
   "id": "cb17ead8",
   "metadata": {
    "papermill": {
     "duration": 0.014197,
     "end_time": "2022-10-22T22:04:05.893024",
     "exception": false,
     "start_time": "2022-10-22T22:04:05.878827",
     "status": "completed"
    },
    "tags": []
   },
   "source": [
    "Percentage of cities with high accident"
   ]
  },
  {
   "cell_type": "code",
   "execution_count": 18,
   "id": "fbea5b80",
   "metadata": {
    "execution": {
     "iopub.execute_input": "2022-10-22T22:04:05.923102Z",
     "iopub.status.busy": "2022-10-22T22:04:05.922703Z",
     "iopub.status.idle": "2022-10-22T22:04:05.927001Z",
     "shell.execute_reply": "2022-10-22T22:04:05.926437Z"
    },
    "papermill": {
     "duration": 0.02114,
     "end_time": "2022-10-22T22:04:05.928488",
     "exception": false,
     "start_time": "2022-10-22T22:04:05.907348",
     "status": "completed"
    },
    "tags": []
   },
   "outputs": [
    {
     "data": {
      "text/plain": [
       "0.04245848313644924"
      ]
     },
     "execution_count": 18,
     "metadata": {},
     "output_type": "execute_result"
    }
   ],
   "source": [
    "len(high_accident_cities)/len(cities)"
   ]
  },
  {
   "cell_type": "code",
   "execution_count": 19,
   "id": "4b0efb1b",
   "metadata": {
    "execution": {
     "iopub.execute_input": "2022-10-22T22:04:05.959299Z",
     "iopub.status.busy": "2022-10-22T22:04:05.959024Z",
     "iopub.status.idle": "2022-10-22T22:04:06.147016Z",
     "shell.execute_reply": "2022-10-22T22:04:06.146077Z"
    },
    "papermill": {
     "duration": 0.205713,
     "end_time": "2022-10-22T22:04:06.148887",
     "exception": false,
     "start_time": "2022-10-22T22:04:05.943174",
     "status": "completed"
    },
    "tags": []
   },
   "outputs": [
    {
     "name": "stderr",
     "output_type": "stream",
     "text": [
      "/opt/conda/lib/python3.7/site-packages/seaborn/distributions.py:2619: FutureWarning: `distplot` is a deprecated function and will be removed in a future version. Please adapt your code to use either `displot` (a figure-level function with similar flexibility) or `histplot` (an axes-level function for histograms).\n",
      "  warnings.warn(msg, FutureWarning)\n"
     ]
    },
    {
     "data": {
      "text/plain": [
       "<AxesSubplot:xlabel='City', ylabel='Density'>"
      ]
     },
     "execution_count": 19,
     "metadata": {},
     "output_type": "execute_result"
    },
    {
     "data": {
      "image/png": "[encoded data removed]",
      "text/plain": [
       "<Figure size 432x288 with 1 Axes>"
      ]
     },
     "metadata": {},
     "output_type": "display_data"
    }
   ],
   "source": [
    "sns.distplot(low_accident_cities[:100])"
   ]
  },
  {
   "cell_type": "markdown",
   "id": "76942909",
   "metadata": {
    "papermill": {
     "duration": 0.014799,
     "end_time": "2022-10-22T22:04:06.179035",
     "exception": false,
     "start_time": "2022-10-22T22:04:06.164236",
     "status": "completed"
    },
    "tags": []
   },
   "source": [
    "We see that both high accident cities and low accident cities have an exponential distribution."
   ]
  },
  {
   "cell_type": "code",
   "execution_count": 20,
   "id": "bc95c340",
   "metadata": {
    "execution": {
     "iopub.execute_input": "2022-10-22T22:04:06.211109Z",
     "iopub.status.busy": "2022-10-22T22:04:06.210166Z",
     "iopub.status.idle": "2022-10-22T22:04:07.151206Z",
     "shell.execute_reply": "2022-10-22T22:04:07.150511Z"
    },
    "papermill": {
     "duration": 0.958739,
     "end_time": "2022-10-22T22:04:07.152795",
     "exception": false,
     "start_time": "2022-10-22T22:04:06.194056",
     "status": "completed"
    },
    "tags": []
   },
   "outputs": [
    {
     "data": {
      "text/plain": [
       "<AxesSubplot:xlabel='City', ylabel='Count'>"
      ]
     },
     "execution_count": 20,
     "metadata": {},
     "output_type": "execute_result"
    },
    {
     "data": {
      "image/png": "[encoded data removed]",
      "text/plain": [
       "<Figure size 432x288 with 1 Axes>"
      ]
     },
     "metadata": {},
     "output_type": "display_data"
    }
   ],
   "source": [
    "sns.histplot(cities_by_accident, log_scale=True)"
   ]
  },
  {
   "cell_type": "code",
   "execution_count": 21,
   "id": "3bce11d8",
   "metadata": {
    "execution": {
     "iopub.execute_input": "2022-10-22T22:04:07.185342Z",
     "iopub.status.busy": "2022-10-22T22:04:07.184724Z",
     "iopub.status.idle": "2022-10-22T22:04:07.192066Z",
     "shell.execute_reply": "2022-10-22T22:04:07.191261Z"
    },
    "papermill": {
     "duration": 0.025354,
     "end_time": "2022-10-22T22:04:07.193783",
     "exception": false,
     "start_time": "2022-10-22T22:04:07.168429",
     "status": "completed"
    },
    "tags": []
   },
   "outputs": [
    {
     "data": {
      "text/plain": [
       "Carney                          1\n",
       "Waverly Hall                    1\n",
       "Center Sandwich                 1\n",
       "Glen Flora                      1\n",
       "Sulphur Springs                 1\n",
       "                               ..\n",
       "Ridgedale                       1\n",
       "Sekiu                           1\n",
       "Wooldridge                      1\n",
       "Bullock                         1\n",
       "American Fork-Pleasant Grove    1\n",
       "Name: City, Length: 1110, dtype: int64"
      ]
     },
     "execution_count": 21,
     "metadata": {},
     "output_type": "execute_result"
    }
   ],
   "source": [
    "cities_by_accident[cities_by_accident ==1]"
   ]
  },
  {
   "cell_type": "markdown",
   "id": "3acecf01",
   "metadata": {
    "papermill": {
     "duration": 0.015663,
     "end_time": "2022-10-22T22:04:07.224871",
     "exception": false,
     "start_time": "2022-10-22T22:04:07.209208",
     "status": "completed"
    },
    "tags": []
   },
   "source": [
    "### Start Time"
   ]
  },
  {
   "cell_type": "code",
   "execution_count": 22,
   "id": "502de3f1",
   "metadata": {
    "execution": {
     "iopub.execute_input": "2022-10-22T22:04:07.257521Z",
     "iopub.status.busy": "2022-10-22T22:04:07.257199Z",
     "iopub.status.idle": "2022-10-22T22:04:07.262811Z",
     "shell.execute_reply": "2022-10-22T22:04:07.261920Z"
    },
    "papermill": {
     "duration": 0.023712,
     "end_time": "2022-10-22T22:04:07.264318",
     "exception": false,
     "start_time": "2022-10-22T22:04:07.240606",
     "status": "completed"
    },
    "tags": []
   },
   "outputs": [
    {
     "data": {
      "text/plain": [
       "'2016-02-08 00:37:08'"
      ]
     },
     "execution_count": 22,
     "metadata": {},
     "output_type": "execute_result"
    }
   ],
   "source": [
    "df.Start_Time[0]"
   ]
  },
  {
   "cell_type": "markdown",
   "id": "bc4e7a41",
   "metadata": {
    "papermill": {
     "duration": 0.015649,
     "end_time": "2022-10-22T22:04:07.295682",
     "exception": false,
     "start_time": "2022-10-22T22:04:07.280033",
     "status": "completed"
    },
    "tags": []
   },
   "source": [
    "Converting to string type to datetime format"
   ]
  },
  {
   "cell_type": "code",
   "execution_count": 23,
   "id": "60d67a8d",
   "metadata": {
    "execution": {
     "iopub.execute_input": "2022-10-22T22:04:07.328119Z",
     "iopub.status.busy": "2022-10-22T22:04:07.327658Z",
     "iopub.status.idle": "2022-10-22T22:04:08.311701Z",
     "shell.execute_reply": "2022-10-22T22:04:08.310862Z"
    },
    "papermill": {
     "duration": 1.002236,
     "end_time": "2022-10-22T22:04:08.313530",
     "exception": false,
     "start_time": "2022-10-22T22:04:07.311294",
     "status": "completed"
    },
    "tags": []
   },
   "outputs": [
    {
     "data": {
      "text/plain": [
       "0         2016-02-08 00:37:08\n",
       "1         2016-02-08 05:56:20\n",
       "2         2016-02-08 06:15:39\n",
       "3         2016-02-08 06:51:45\n",
       "4         2016-02-08 07:53:43\n",
       "                  ...        \n",
       "2845337   2019-08-23 18:03:25\n",
       "2845338   2019-08-23 19:11:30\n",
       "2845339   2019-08-23 19:00:21\n",
       "2845340   2019-08-23 19:00:21\n",
       "2845341   2019-08-23 18:52:06\n",
       "Name: Start_Time, Length: 2845342, dtype: datetime64[ns]"
      ]
     },
     "execution_count": 23,
     "metadata": {},
     "output_type": "execute_result"
    }
   ],
   "source": [
    "df.Start_Time = pd.to_datetime(df.Start_Time)\n",
    "df.Start_Time"
   ]
  },
  {
   "cell_type": "code",
   "execution_count": 24,
   "id": "f112a34f",
   "metadata": {
    "execution": {
     "iopub.execute_input": "2022-10-22T22:04:08.347117Z",
     "iopub.status.busy": "2022-10-22T22:04:08.346764Z",
     "iopub.status.idle": "2022-10-22T22:04:08.352440Z",
     "shell.execute_reply": "2022-10-22T22:04:08.351659Z"
    },
    "papermill": {
     "duration": 0.024336,
     "end_time": "2022-10-22T22:04:08.354086",
     "exception": false,
     "start_time": "2022-10-22T22:04:08.329750",
     "status": "completed"
    },
    "tags": []
   },
   "outputs": [
    {
     "data": {
      "text/plain": [
       "Timestamp('2016-02-08 00:37:08')"
      ]
     },
     "execution_count": 24,
     "metadata": {},
     "output_type": "execute_result"
    }
   ],
   "source": [
    "df.Start_Time[0]"
   ]
  },
  {
   "cell_type": "markdown",
   "id": "1fd5acb6",
   "metadata": {
    "papermill": {
     "duration": 0.015903,
     "end_time": "2022-10-22T22:04:08.386180",
     "exception": false,
     "start_time": "2022-10-22T22:04:08.370277",
     "status": "completed"
    },
    "tags": []
   },
   "source": [
    "Now we need to get hour of the day where the accidents happened"
   ]
  },
  {
   "cell_type": "code",
   "execution_count": 25,
   "id": "42a8837b",
   "metadata": {
    "execution": {
     "iopub.execute_input": "2022-10-22T22:04:08.419105Z",
     "iopub.status.busy": "2022-10-22T22:04:08.418794Z",
     "iopub.status.idle": "2022-10-22T22:04:08.522532Z",
     "shell.execute_reply": "2022-10-22T22:04:08.521685Z"
    },
    "papermill": {
     "duration": 0.122318,
     "end_time": "2022-10-22T22:04:08.524417",
     "exception": false,
     "start_time": "2022-10-22T22:04:08.402099",
     "status": "completed"
    },
    "tags": []
   },
   "outputs": [
    {
     "data": {
      "text/plain": [
       "0           0\n",
       "1           5\n",
       "2           6\n",
       "3           6\n",
       "4           7\n",
       "           ..\n",
       "2845337    18\n",
       "2845338    19\n",
       "2845339    19\n",
       "2845340    19\n",
       "2845341    18\n",
       "Name: Start_Time, Length: 2845342, dtype: int64"
      ]
     },
     "execution_count": 25,
     "metadata": {},
     "output_type": "execute_result"
    }
   ],
   "source": [
    "df.Start_Time.dt.hour"
   ]
  },
  {
   "cell_type": "markdown",
   "id": "1d9bf080",
   "metadata": {
    "papermill": {
     "duration": 0.016152,
     "end_time": "2022-10-22T22:04:08.557471",
     "exception": false,
     "start_time": "2022-10-22T22:04:08.541319",
     "status": "completed"
    },
    "tags": []
   },
   "source": []
  },
  {
   "cell_type": "code",
   "execution_count": 26,
   "id": "d87ce824",
   "metadata": {
    "execution": {
     "iopub.execute_input": "2022-10-22T22:04:08.591207Z",
     "iopub.status.busy": "2022-10-22T22:04:08.590870Z",
     "iopub.status.idle": "2022-10-22T22:04:08.936788Z",
     "shell.execute_reply": "2022-10-22T22:04:08.936162Z"
    },
    "papermill": {
     "duration": 0.36464,
     "end_time": "2022-10-22T22:04:08.938485",
     "exception": false,
     "start_time": "2022-10-22T22:04:08.573845",
     "status": "completed"
    },
    "tags": []
   },
   "outputs": [
    {
     "name": "stderr",
     "output_type": "stream",
     "text": [
      "/opt/conda/lib/python3.7/site-packages/seaborn/distributions.py:2619: FutureWarning: `distplot` is a deprecated function and will be removed in a future version. Please adapt your code to use either `displot` (a figure-level function with similar flexibility) or `histplot` (an axes-level function for histograms).\n",
      "  warnings.warn(msg, FutureWarning)\n"
     ]
    },
    {
     "data": {
      "text/plain": [
       "<AxesSubplot:xlabel='Start_Time'>"
      ]
     },
     "execution_count": 26,
     "metadata": {},
     "output_type": "execute_result"
    },
    {
     "data": {
      "image/png": "[encoded data removed]",
      "text/plain": [
       "<Figure size 432x288 with 1 Axes>"
      ]
     },
     "metadata": {},
     "output_type": "display_data"
    }
   ],
   "source": [
    "sns.distplot(df.Start_Time.dt.hour, bins=24, kde=False, norm_hist= True)"
   ]
  },
  {
   "cell_type": "markdown",
   "id": "ab95f6ae",
   "metadata": {
    "papermill": {
     "duration": 0.01635,
     "end_time": "2022-10-22T22:04:08.972625",
     "exception": false,
     "start_time": "2022-10-22T22:04:08.956275",
     "status": "completed"
    },
    "tags": []
   },
   "source": [
    "- A High percentage of accidents occur between 6-10am\n",
    "- Another highest percentage is 3-6pm."
   ]
  },
  {
   "cell_type": "code",
   "execution_count": 27,
   "id": "2a1b4b28",
   "metadata": {
    "execution": {
     "iopub.execute_input": "2022-10-22T22:04:09.006812Z",
     "iopub.status.busy": "2022-10-22T22:04:09.006275Z",
     "iopub.status.idle": "2022-10-22T22:04:09.352936Z",
     "shell.execute_reply": "2022-10-22T22:04:09.352102Z"
    },
    "papermill": {
     "duration": 0.365883,
     "end_time": "2022-10-22T22:04:09.354631",
     "exception": false,
     "start_time": "2022-10-22T22:04:08.988748",
     "status": "completed"
    },
    "tags": []
   },
   "outputs": [
    {
     "data": {
      "text/plain": [
       "<AxesSubplot:xlabel='Start_Time'>"
      ]
     },
     "execution_count": 27,
     "metadata": {},
     "output_type": "execute_result"
    },
    {
     "data": {
      "image/png": "[encoded data removed]",
      "text/plain": [
       "<Figure size 432x288 with 1 Axes>"
      ]
     },
     "metadata": {},
     "output_type": "display_data"
    }
   ],
   "source": [
    "sns.distplot(df.Start_Time.dt.dayofweek, bins=7, kde=False, norm_hist= True)"
   ]
  },
  {
   "cell_type": "markdown",
   "id": "625bc55d",
   "metadata": {
    "papermill": {
     "duration": 0.016126,
     "end_time": "2022-10-22T22:04:09.387271",
     "exception": false,
     "start_time": "2022-10-22T22:04:09.371145",
     "status": "completed"
    },
    "tags": []
   },
   "source": [
    "We can see that on weekends the number of accidents low."
   ]
  },
  {
   "cell_type": "code",
   "execution_count": 28,
   "id": "74ac58a4",
   "metadata": {
    "execution": {
     "iopub.execute_input": "2022-10-22T22:04:09.421317Z",
     "iopub.status.busy": "2022-10-22T22:04:09.420961Z",
     "iopub.status.idle": "2022-10-22T22:04:10.410625Z",
     "shell.execute_reply": "2022-10-22T22:04:10.409805Z"
    },
    "papermill": {
     "duration": 1.008977,
     "end_time": "2022-10-22T22:04:10.412489",
     "exception": false,
     "start_time": "2022-10-22T22:04:09.403512",
     "status": "completed"
    },
    "tags": []
   },
   "outputs": [
    {
     "data": {
      "text/plain": [
       "<AxesSubplot:xlabel='Start_Time', ylabel='Density'>"
      ]
     },
     "execution_count": 28,
     "metadata": {},
     "output_type": "execute_result"
    },
    {
     "data": {
      "image/png": "[encoded data removed]",
      "text/plain": [
       "<Figure size 432x288 with 1 Axes>"
      ]
     },
     "metadata": {},
     "output_type": "display_data"
    }
   ],
   "source": [
    "sundays_start_time = df.Start_Time[df.Start_Time.dt.dayofweek == 6]\n",
    "sns.distplot(sundays_start_time.dt.hour, bins=24, norm_hist= True)"
   ]
  },
  {
   "cell_type": "code",
   "execution_count": 29,
   "id": "16d1e188",
   "metadata": {
    "execution": {
     "iopub.execute_input": "2022-10-22T22:04:10.448831Z",
     "iopub.status.busy": "2022-10-22T22:04:10.448536Z",
     "iopub.status.idle": "2022-10-22T22:04:10.783225Z",
     "shell.execute_reply": "2022-10-22T22:04:10.782363Z"
    },
    "papermill": {
     "duration": 0.354621,
     "end_time": "2022-10-22T22:04:10.785288",
     "exception": false,
     "start_time": "2022-10-22T22:04:10.430667",
     "status": "completed"
    },
    "tags": []
   },
   "outputs": [
    {
     "name": "stderr",
     "output_type": "stream",
     "text": [
      "/opt/conda/lib/python3.7/site-packages/seaborn/distributions.py:2619: FutureWarning: `distplot` is a deprecated function and will be removed in a future version. Please adapt your code to use either `displot` (a figure-level function with similar flexibility) or `histplot` (an axes-level function for histograms).\n",
      "  warnings.warn(msg, FutureWarning)\n"
     ]
    },
    {
     "data": {
      "text/plain": [
       "<AxesSubplot:xlabel='Start_Time'>"
      ]
     },
     "execution_count": 29,
     "metadata": {},
     "output_type": "execute_result"
    },
    {
     "data": {
      "image/png": "[encoded data removed]",
      "text/plain": [
       "<Figure size 432x288 with 1 Axes>"
      ]
     },
     "metadata": {},
     "output_type": "display_data"
    }
   ],
   "source": [
    "sat_start_time = df.Start_Time[df.Start_Time.dt.dayofweek == 5]\n",
    "sns.distplot(sat_start_time.dt.hour, bins=24, kde=False, norm_hist= True)"
   ]
  },
  {
   "cell_type": "markdown",
   "id": "c15bcebf",
   "metadata": {
    "papermill": {
     "duration": 0.016913,
     "end_time": "2022-10-22T22:04:10.819778",
     "exception": false,
     "start_time": "2022-10-22T22:04:10.802865",
     "status": "completed"
    },
    "tags": []
   },
   "source": [
    "*MONDAYS*"
   ]
  },
  {
   "cell_type": "code",
   "execution_count": 30,
   "id": "eae28654",
   "metadata": {
    "execution": {
     "iopub.execute_input": "2022-10-22T22:04:10.855480Z",
     "iopub.status.busy": "2022-10-22T22:04:10.855124Z",
     "iopub.status.idle": "2022-10-22T22:04:11.310656Z",
     "shell.execute_reply": "2022-10-22T22:04:11.310013Z"
    },
    "papermill": {
     "duration": 0.475477,
     "end_time": "2022-10-22T22:04:11.312449",
     "exception": false,
     "start_time": "2022-10-22T22:04:10.836972",
     "status": "completed"
    },
    "tags": []
   },
   "outputs": [
    {
     "data": {
      "text/plain": [
       "<AxesSubplot:xlabel='Start_Time'>"
      ]
     },
     "execution_count": 30,
     "metadata": {},
     "output_type": "execute_result"
    },
    {
     "data": {
      "image/png": "[encoded data removed]",
      "text/plain": [
       "<Figure size 432x288 with 1 Axes>"
      ]
     },
     "metadata": {},
     "output_type": "display_data"
    }
   ],
   "source": [
    "mondays_start_time = df.Start_Time[df.Start_Time.dt.dayofweek == 0]\n",
    "sns.distplot(mondays_start_time.dt.hour, bins=24, kde=False, norm_hist= True)"
   ]
  },
  {
   "cell_type": "markdown",
   "id": "0abea37c",
   "metadata": {
    "papermill": {
     "duration": 0.01747,
     "end_time": "2022-10-22T22:04:11.347708",
     "exception": false,
     "start_time": "2022-10-22T22:04:11.330238",
     "status": "completed"
    },
    "tags": []
   },
   "source": [
    "On saturdays and sundays it was the afternoons that most of the accidents occur unlike weekdays where it was between 6-10am and 3-6pm."
   ]
  },
  {
   "cell_type": "markdown",
   "id": "3ae9444d",
   "metadata": {
    "papermill": {
     "duration": 0.017361,
     "end_time": "2022-10-22T22:04:11.382621",
     "exception": false,
     "start_time": "2022-10-22T22:04:11.365260",
     "status": "completed"
    },
    "tags": []
   },
   "source": [
    "### Are there more accidents in warmer or colder seasons?"
   ]
  },
  {
   "cell_type": "code",
   "execution_count": 31,
   "id": "42f3c1c1",
   "metadata": {
    "execution": {
     "iopub.execute_input": "2022-10-22T22:04:11.419560Z",
     "iopub.status.busy": "2022-10-22T22:04:11.418826Z",
     "iopub.status.idle": "2022-10-22T22:04:11.793182Z",
     "shell.execute_reply": "2022-10-22T22:04:11.792167Z"
    },
    "papermill": {
     "duration": 0.394784,
     "end_time": "2022-10-22T22:04:11.795049",
     "exception": false,
     "start_time": "2022-10-22T22:04:11.400265",
     "status": "completed"
    },
    "tags": []
   },
   "outputs": [
    {
     "data": {
      "text/plain": [
       "<AxesSubplot:xlabel='Start_Time'>"
      ]
     },
     "execution_count": 31,
     "metadata": {},
     "output_type": "execute_result"
    },
    {
     "data": {
      "image/png": "[encoded data removed]",
      "text/plain": [
       "<Figure size 432x288 with 1 Axes>"
      ]
     },
     "metadata": {},
     "output_type": "display_data"
    }
   ],
   "source": [
    "df_2019 = df[df.Start_Time.dt.year == 2019]\n",
    "sns.distplot(df_2019.Start_Time.dt.month, bins =12 , kde=False, norm_hist=True)"
   ]
  },
  {
   "cell_type": "code",
   "execution_count": 32,
   "id": "4fa68b9c",
   "metadata": {
    "_kg_hide-output": true,
    "execution": {
     "iopub.execute_input": "2022-10-22T22:04:11.832480Z",
     "iopub.status.busy": "2022-10-22T22:04:11.832131Z",
     "iopub.status.idle": "2022-10-22T22:04:12.164397Z",
     "shell.execute_reply": "2022-10-22T22:04:12.163490Z"
    },
    "papermill": {
     "duration": 0.353057,
     "end_time": "2022-10-22T22:04:12.166234",
     "exception": false,
     "start_time": "2022-10-22T22:04:11.813177",
     "status": "completed"
    },
    "tags": []
   },
   "outputs": [
    {
     "data": {
      "text/plain": [
       "<AxesSubplot:xlabel='Start_Time'>"
      ]
     },
     "execution_count": 32,
     "metadata": {},
     "output_type": "execute_result"
    },
    {
     "data": {
      "image/png": "[encoded data removed]",
      "text/plain": [
       "<Figure size 432x288 with 1 Axes>"
      ]
     },
     "metadata": {},
     "output_type": "display_data"
    }
   ],
   "source": [
    "df_2018 = df[df.Start_Time.dt.year == 2018]\n",
    "sns.distplot(df_2018.Start_Time.dt.month, bins =12 , kde=False, norm_hist=True)"
   ]
  },
  {
   "cell_type": "code",
   "execution_count": 33,
   "id": "8a79ff70",
   "metadata": {
    "execution": {
     "iopub.execute_input": "2022-10-22T22:04:12.205899Z",
     "iopub.status.busy": "2022-10-22T22:04:12.205589Z",
     "iopub.status.idle": "2022-10-22T22:04:12.558187Z",
     "shell.execute_reply": "2022-10-22T22:04:12.557415Z"
    },
    "papermill": {
     "duration": 0.374676,
     "end_time": "2022-10-22T22:04:12.560030",
     "exception": false,
     "start_time": "2022-10-22T22:04:12.185354",
     "status": "completed"
    },
    "tags": []
   },
   "outputs": [
    {
     "data": {
      "text/plain": [
       "<AxesSubplot:xlabel='Start_Time'>"
      ]
     },
     "execution_count": 33,
     "metadata": {},
     "output_type": "execute_result"
    },
    {
     "data": {
      "image/png": "[encoded data removed]",
      "text/plain": [
       "<Figure size 432x288 with 1 Axes>"
      ]
     },
     "metadata": {},
     "output_type": "display_data"
    }
   ],
   "source": [
    "df_2017 = df[df.Start_Time.dt.year == 2017]\n",
    "sns.distplot(df_2017.Start_Time.dt.month, bins =12 , kde=False, norm_hist=True)"
   ]
  },
  {
   "cell_type": "markdown",
   "id": "08350fe7",
   "metadata": {
    "papermill": {
     "duration": 0.018367,
     "end_time": "2022-10-22T22:04:12.597364",
     "exception": false,
     "start_time": "2022-10-22T22:04:12.578997",
     "status": "completed"
    },
    "tags": []
   },
   "source": [
    "After analaysing the data above, we can say that \n",
    "1. In 2017, the accidents were uniform considering all 12 months.\n",
    "2. In 2018, the acidents showed a higher number towards the year end(i.e. Oct, Nov & Dec).\n",
    "3. In 2019, the acidents showed an even higher number towards the year end(i.e. Oct, Nov & Dec) compared to 2018 and 2019.\n",
    "\n",
    "*Conclusion: *\n",
    "We need more data for atleast 20-30 years in order to finally get to a decision whether the winters had more accidents than the summers."
   ]
  },
  {
   "cell_type": "markdown",
   "id": "067f9bf0",
   "metadata": {
    "papermill": {
     "duration": 0.018368,
     "end_time": "2022-10-22T22:04:12.634200",
     "exception": false,
     "start_time": "2022-10-22T22:04:12.615832",
     "status": "completed"
    },
    "tags": []
   },
   "source": [
    "### Start lat and Start Long"
   ]
  },
  {
   "cell_type": "code",
   "execution_count": 34,
   "id": "014e1880",
   "metadata": {
    "execution": {
     "iopub.execute_input": "2022-10-22T22:04:12.672872Z",
     "iopub.status.busy": "2022-10-22T22:04:12.672521Z",
     "iopub.status.idle": "2022-10-22T22:04:12.679827Z",
     "shell.execute_reply": "2022-10-22T22:04:12.679016Z"
    },
    "papermill": {
     "duration": 0.029027,
     "end_time": "2022-10-22T22:04:12.681867",
     "exception": false,
     "start_time": "2022-10-22T22:04:12.652840",
     "status": "completed"
    },
    "tags": []
   },
   "outputs": [
    {
     "data": {
      "text/plain": [
       "0          40.108910\n",
       "1          39.865420\n",
       "2          39.102660\n",
       "3          41.062130\n",
       "4          39.172393\n",
       "             ...    \n",
       "2845337    34.002480\n",
       "2845338    32.766960\n",
       "2845339    33.775450\n",
       "2845340    33.992460\n",
       "2845341    34.133930\n",
       "Name: Start_Lat, Length: 2845342, dtype: float64"
      ]
     },
     "execution_count": 34,
     "metadata": {},
     "output_type": "execute_result"
    }
   ],
   "source": [
    "df.Start_Lat"
   ]
  },
  {
   "cell_type": "code",
   "execution_count": 35,
   "id": "a786d62b",
   "metadata": {
    "execution": {
     "iopub.execute_input": "2022-10-22T22:04:12.720655Z",
     "iopub.status.busy": "2022-10-22T22:04:12.720304Z",
     "iopub.status.idle": "2022-10-22T22:04:12.727361Z",
     "shell.execute_reply": "2022-10-22T22:04:12.726641Z"
    },
    "papermill": {
     "duration": 0.028502,
     "end_time": "2022-10-22T22:04:12.729082",
     "exception": false,
     "start_time": "2022-10-22T22:04:12.700580",
     "status": "completed"
    },
    "tags": []
   },
   "outputs": [
    {
     "data": {
      "text/plain": [
       "0          -83.092860\n",
       "1          -84.062800\n",
       "2          -84.524680\n",
       "3          -81.537840\n",
       "4          -84.492792\n",
       "              ...    \n",
       "2845337   -117.379360\n",
       "2845338   -117.148060\n",
       "2845339   -117.847790\n",
       "2845340   -118.403020\n",
       "2845341   -117.230920\n",
       "Name: Start_Lng, Length: 2845342, dtype: float64"
      ]
     },
     "execution_count": 35,
     "metadata": {},
     "output_type": "execute_result"
    }
   ],
   "source": [
    "df.Start_Lng"
   ]
  },
  {
   "cell_type": "code",
   "execution_count": 36,
   "id": "4b0e7379",
   "metadata": {
    "execution": {
     "iopub.execute_input": "2022-10-22T22:04:12.768187Z",
     "iopub.status.busy": "2022-10-22T22:04:12.767670Z",
     "iopub.status.idle": "2022-10-22T22:04:13.078135Z",
     "shell.execute_reply": "2022-10-22T22:04:13.077364Z"
    },
    "papermill": {
     "duration": 0.332346,
     "end_time": "2022-10-22T22:04:13.080207",
     "exception": false,
     "start_time": "2022-10-22T22:04:12.747861",
     "status": "completed"
    },
    "tags": []
   },
   "outputs": [],
   "source": [
    "import folium\n",
    "from folium import plugins\n",
    "from folium.plugins import HeatMap\n"
   ]
  },
  {
   "cell_type": "markdown",
   "id": "8460e408",
   "metadata": {
    "papermill": {
     "duration": 0.018437,
     "end_time": "2022-10-22T22:04:13.117758",
     "exception": false,
     "start_time": "2022-10-22T22:04:13.099321",
     "status": "completed"
    },
    "tags": []
   },
   "source": [
    "Now, we will use a sample 0.01% of the data to visaulize it on a heatmap."
   ]
  },
  {
   "cell_type": "code",
   "execution_count": 37,
   "id": "db2e64fa",
   "metadata": {
    "execution": {
     "iopub.execute_input": "2022-10-22T22:04:13.156761Z",
     "iopub.status.busy": "2022-10-22T22:04:13.156424Z",
     "iopub.status.idle": "2022-10-22T22:04:13.252131Z",
     "shell.execute_reply": "2022-10-22T22:04:13.250112Z"
    },
    "papermill": {
     "duration": 0.11826,
     "end_time": "2022-10-22T22:04:13.254745",
     "exception": false,
     "start_time": "2022-10-22T22:04:13.136485",
     "status": "completed"
    },
    "tags": []
   },
   "outputs": [],
   "source": [
    "sample_df = df.sample(int(0.0001*len(df)))\n",
    "lat_lng_pairs = list(zip(list(sample_df.Start_Lat),list(sample_df.Start_Lng)))"
   ]
  },
  {
   "cell_type": "code",
   "execution_count": 38,
   "id": "4743e460",
   "metadata": {
    "execution": {
     "iopub.execute_input": "2022-10-22T22:04:13.300639Z",
     "iopub.status.busy": "2022-10-22T22:04:13.299522Z",
     "iopub.status.idle": "2022-10-22T22:04:13.327131Z",
     "shell.execute_reply": "2022-10-22T22:04:13.326112Z"
    },
    "papermill": {
     "duration": 0.050729,
     "end_time": "2022-10-22T22:04:13.329057",
     "exception": false,
     "start_time": "2022-10-22T22:04:13.278328",
     "status": "completed"
    },
    "tags": []
   },
   "outputs": [
    {
     "data": {
      "text/html": [
       "<div style=\"width:100%;\"><div style=\"position:relative;width:100%;height:0;padding-bottom:60%;\"><span style=\"color:#565656\">Make this Notebook Trusted to load map: File -> Trust Notebook</span><iframe srcdoc=\"&lt;!DOCTYPE html&gt;\n",
       "&lt;head&gt;    \n",
       "    &lt;meta http-equiv=&quot;content-type&quot; content=&quot;text/html; charset=UTF-8&quot; /&gt;\n",
       "    \n",
       "        &lt;script&gt;\n",
       "            L_NO_TOUCH = false;\n",
       "            L_DISABLE_3D = false;\n",
       "        &lt;/script&gt;\n",
       "    \n",
       "    &lt;style&gt;html, body {width: 100%;height: 100%;margin: 0;padding: 0;}&lt;/style&gt;\n",
       "    &lt;style&gt;#map {position:absolute;top:0;bottom:0;right:0;left:0;}&lt;/style&gt;\n",
       "    &lt;script src=&quot;https://cdn.jsdelivr.net/npm/leaflet@1.6.0/dist/leaflet.js&quot;&gt;&lt;/script&gt;\n",
       "    &lt;script src=&quot;https://code.jquery.com/jquery-1.12.4.min.js&quot;&gt;&lt;/script&gt;\n",
       "    &lt;script src=&quot;https://maxcdn.bootstrapcdn.com/bootstrap/3.2.0/js/bootstrap.min.js&quot;&gt;&lt;/script&gt;\n",
       "    &lt;script src=&quot;https://cdnjs.cloudflare.com/ajax/libs/Leaflet.awesome-markers/2.0.2/leaflet.awesome-markers.js&quot;&gt;&lt;/script&gt;\n",
       "    &lt;link rel=&quot;stylesheet&quot; href=&quot;https://cdn.jsdelivr.net/npm/leaflet@1.6.0/dist/leaflet.css&quot;/&gt;\n",
       "    &lt;link rel=&quot;stylesheet&quot; href=&quot;https://maxcdn.bootstrapcdn.com/bootstrap/3.2.0/css/bootstrap.min.css&quot;/&gt;\n",
       "    &lt;link rel=&quot;stylesheet&quot; href=&quot;https://maxcdn.bootstrapcdn.com/bootstrap/3.2.0/css/bootstrap-theme.min.css&quot;/&gt;\n",
       "    &lt;link rel=&quot;stylesheet&quot; href=&quot;https://maxcdn.bootstrapcdn.com/font-awesome/4.6.3/css/font-awesome.min.css&quot;/&gt;\n",
       "    &lt;link rel=&quot;stylesheet&quot; href=&quot;https://cdnjs.cloudflare.com/ajax/libs/Leaflet.awesome-markers/2.0.2/leaflet.awesome-markers.css&quot;/&gt;\n",
       "    &lt;link rel=&quot;stylesheet&quot; href=&quot;https://cdn.jsdelivr.net/gh/python-visualization/folium/folium/templates/leaflet.awesome.rotate.min.css&quot;/&gt;\n",
       "    \n",
       "            &lt;meta name=&quot;viewport&quot; content=&quot;width=device-width,\n",
       "                initial-scale=1.0, maximum-scale=1.0, user-scalable=no&quot; /&gt;\n",
       "            &lt;style&gt;\n",
       "                #map_a71c503135d5feac8e218457cd421ffc {\n",
       "                    position: relative;\n",
       "                    width: 100.0%;\n",
       "                    height: 100.0%;\n",
       "                    left: 0.0%;\n",
       "                    top: 0.0%;\n",
       "                }\n",
       "            &lt;/style&gt;\n",
       "        \n",
       "    &lt;script src=&quot;https://cdn.jsdelivr.net/gh/python-visualization/folium@main/folium/templates/leaflet_heat.min.js&quot;&gt;&lt;/script&gt;\n",
       "&lt;/head&gt;\n",
       "&lt;body&gt;    \n",
       "    \n",
       "            &lt;div class=&quot;folium-map&quot; id=&quot;map_a71c503135d5feac8e218457cd421ffc&quot; &gt;&lt;/div&gt;\n",
       "        \n",
       "&lt;/body&gt;\n",
       "&lt;script&gt;    \n",
       "    \n",
       "            var map_a71c503135d5feac8e218457cd421ffc = L.map(\n",
       "                &quot;map_a71c503135d5feac8e218457cd421ffc&quot;,\n",
       "                {\n",
       "                    center: [0, 0],\n",
       "                    crs: L.CRS.EPSG3857,\n",
       "                    zoom: 1,\n",
       "                    zoomControl: true,\n",
       "                    preferCanvas: false,\n",
       "                }\n",
       "            );\n",
       "\n",
       "            \n",
       "\n",
       "        \n",
       "    \n",
       "            var tile_layer_47d1b2e20314f485be7d946253036508 = L.tileLayer(\n",
       "                &quot;https://{s}.tile.openstreetmap.org/{z}/{x}/{y}.png&quot;,\n",
       "                {&quot;attribution&quot;: &quot;Data by \\u0026copy; \\u003ca href=\\&quot;http://openstreetmap.org\\&quot;\\u003eOpenStreetMap\\u003c/a\\u003e, under \\u003ca href=\\&quot;http://www.openstreetmap.org/copyright\\&quot;\\u003eODbL\\u003c/a\\u003e.&quot;, &quot;detectRetina&quot;: false, &quot;maxNativeZoom&quot;: 18, &quot;maxZoom&quot;: 18, &quot;minZoom&quot;: 0, &quot;noWrap&quot;: false, &quot;opacity&quot;: 1, &quot;subdomains&quot;: &quot;abc&quot;, &quot;tms&quot;: false}\n",
       "            ).addTo(map_a71c503135d5feac8e218457cd421ffc);\n",
       "        \n",
       "    \n",
       "            var heat_map_73352b324ca77a87edf4b1cd4dfe97c3 = L.heatLayer(\n",
       "                [[43.20286, -117.04569], [41.681152, -72.81814399999998], [45.610504, -122.025801], [44.160264, -121.258839], [32.88552, -96.770211], [47.46915, -122.20749], [40.620808, -111.903234], [42.59846, -76.161158], [44.060039, -123.1012], [44.95164000000001, -93.13388], [40.541986, -75.69785999999998], [30.770461, -88.094832], [44.521662, -121.994833], [25.950092, -80.12065799999998], [36.25575, -119.904193], [43.035051, -83.741537], [27.78108, -82.66055], [40.023315, -75.034538], [43.22653, -123.36097], [34.210822, -117.085402], [33.283864, -80.817071], [40.74801, -74.16686999999997], [32.735744, -117.175052], [27.870965, -82.3266], [33.9237, -118.10439], [40.064438, -75.125866], [47.37671, -122.72422], [25.941566, -80.306811], [27.337549, -82.49499200000002], [29.651219, -97.661614], [30.315349, -81.743558], [33.859342, -117.940781], [42.427544, -122.953457], [40.924812, -73.842726], [39.2857, -120.954757], [33.929356, -80.379138], [28.454924, -81.464454], [40.70052, -73.50350999999998], [37.5403, -121.92476], [33.91356, -118.11097], [42.573572, -79.081715], [34.056382, -118.255643], [26.679532, -80.169256], [39.29586, -76.61086], [34.82713, -82.29314000000002], [27.779105, -82.67948299999998], [25.941286, -80.190979], [42.37959, -88.062519], [34.063984000000005, -117.290139], [30.20918, -81.75929000000002], [40.810994, -74.088949], [44.889921, -93.392731], [33.715601, -117.844547], [45.10442000000001, -93.46015], [36.034841, -86.783084], [45.23481, -122.80813], [29.943029, -95.432389], [39.149598, -120.899032], [33.849726000000004, -117.875849], [33.966988, -117.32721399999998], [28.912122, -81.271305], [37.597645, -77.351952], [33.18238, -117.30033], [28.552212, -81.458937], [32.635940000000005, -116.893589], [44.859048, -93.328683], [34.140171, -118.016554], [25.73323, -80.334334], [30.336104, -97.693243], [38.343929, -77.487616], [29.60950900000001, -95.197532], [34.117490000000004, -117.863428], [25.934767, -80.20084200000002], [33.189139000000004, -117.361491], [33.75456, -118.01645], [25.939703, -80.188672], [44.777258, -93.378349], [37.651004, -77.610463], [35.559729, -82.643398], [32.699911, -96.857086], [37.700108, -122.47171000000002], [25.924072, -80.15433900000002], [39.635418, -84.158343], [33.990207, -117.920154], [37.430309, -77.619043], [33.865484, -118.197304], [36.153283, -86.842566], [44.563949, -123.23418], [33.373707, -117.141322], [32.7592, -96.9824], [38.848975, -77.077256], [42.825595, -71.290537], [42.97078, -85.688233], [36.982826, -121.964107], [33.818083, -117.876166], [34.950931, -80.869061], [40.51765, -74.361476], [25.700583, -80.334009], [37.97564000000001, -121.74162], [37.551926, -122.512156], [28.473451, -81.396745], [34.449042, -119.649303], [34.384019, -118.568254], [33.008340000000004, -96.708], [38.481084, -121.510387], [36.158885, -86.845083], [32.69468, -117.12063], [43.015586, -83.68860600000002], [34.704469, -118.794704], [36.007281, -119.489908], [27.082756, -82.425938], [35.8241, -78.6186], [33.461779, -112.26466299999998], [29.663397, -82.421976], [33.806444, -117.905541], [41.578986, -87.253443], [30.02716, -90.01498000000002], [25.71377, -80.382491], [25.645931, -80.333263], [37.98349, -122.04161], [38.16983, -122.2007], [33.8724, -78.62355699999998], [48.94302, -111.932311], [43.0414, -83.675186], [34.207511, -118.200079], [34.056062, -117.546582], [33.542679, -112.112451], [38.246944, -77.514939], [38.948817, -76.860031], [41.323131, -73.084756], [39.119343, -77.20344300000002], [33.6777, -84.39784], [41.54544, -72.62923], [34.817714, -83.223129], [33.839447, -118.263315], [32.371564, -86.20926700000004], [42.268105, -87.843907], [34.670046, -82.582623], [34.896062, -82.411029], [25.685105, -80.42156999999997], [25.826215, -80.33016500000002], [41.120544, -73.326052], [37.499175, -122.239544], [43.12673, -89.291], [30.159885, -85.733118], [33.950622, -118.103008], [43.00256, -88.03815], [34.077687, -117.408992], [41.39012, -88.19296], [29.967145, -90.070365], [36.500642, -121.935967], [28.54372, -81.19235], [33.46989, -112.26857], [42.376752, -87.93356999999996], [38.318875, -77.504479], [27.450172, -82.534173], [37.644944, -121.630172], [33.831414, -117.716878], [34.041434, -118.17023], [32.943609, -80.493811], [41.93739, -87.70408], [40.695963, -73.96408000000002], [39.947876, -75.409126], [33.927621, -78.72079699999998], [42.97668, -85.678], [38.428727, -122.715193], [35.917425, -84.09448499999998], [34.071819, -118.134331], [28.624352, -81.255086], [34.04674, -118.2148], [41.418489, -75.603779], [25.700111, -80.333988], [45.55325300000001, -122.678736], [40.343867, -74.281686], [45.371437, -122.375301], [44.90624, -94.036714], [25.732294, -80.31501800000002], [43.072662, -77.64456700000002], [32.644465999999994, -96.850335], [42.24152, -88.00413], [42.27967, -87.855602], [44.401224, -92.076885], [34.030606, -117.62803], [32.791343, -96.742315], [37.708935, -121.723677], [38.272395, -121.978709], [40.510958, -74.385181], [34.157647, -118.453132], [36.017975, -118.122335], [45.652313, -123.146175], [39.006702, -94.693911], [39.47923, -110.853048], [37.089301, -76.45886999999998], [34.00315, -117.83135], [34.441140000000004, -81.764234], [25.762379, -80.303877], [36.22985300000001, -80.92348], [35.824209, -78.58758900000002], [30.017640000000004, -89.984954], [32.76957, -117.20726], [44.887014, -93.332043], [37.892862, -122.125001], [33.928984, -118.230329], [33.21906, -96.88027], [25.962199, -80.186614], [33.651351, -117.757848], [25.956371, -80.287109], [27.89377, -82.71486999999998], [38.869925, -121.131948], [43.949099, -93.264709], [40.615049, -75.477758], [34.017825, -118.481625], [45.69095, -121.43971], [29.7179, -95.527798], [25.685389, -80.38453], [44.03248, -92.55828], [42.849048, -73.753573], [30.431076, -91.05324], [33.92737, -118.17819], [28.480565, -81.32973], [29.897961, -95.431552], [45.615435, -92.992204], [26.108595, -80.16875], [33.901813, -117.46671200000002], [45.37867, -122.06538], [40.81113, -73.96683], [38.503736, -122.469843], [40.828469, -74.027649], [31.778007, -106.459182], [38.291112, -121.312162], [42.96325, -85.70786], [47.126946, -122.43478], [34.323617, -118.456445], [33.92848, -118.28932], [34.821612, -82.284743], [35.886713, -78.52498100000003], [26.686658, -81.794315], [34.765915, -82.48984200000002], [34.954392, -120.476907], [25.869308, -80.20695], [47.470182, -122.205708], [25.946072, -80.147246], [36.14935, -120.62935], [40.029784, -76.289276], [44.999488, -93.441978], [34.06368, -118.1613], [40.846942, -73.826462], [39.006024, -76.898127], [36.94341, -80.945756], [40.231879, -76.891111], [28.495335, -81.396918], [26.381, -80.111136], [37.923282, -122.061272], [35.205925, -80.862156], [38.560137, -121.367418], [28.543426, -81.31066700000002], [44.181292, -93.948848], [37.167349, -122.042531], [39.750674, -86.034099], [47.13933, -122.521038], [35.74692, -78.44703], [35.81109, -78.580972], [28.187590000000004, -80.70619], [34.324444, -117.48206], [38.403654, -85.76474], [29.963357, -90.073928], [36.260851, -86.712689], [34.152406, -118.097115], [37.405995, -76.52805], [37.294226, -121.941072], [37.56635, -122.04168], [37.621437, -122.07731499999998], [38.6311, -121.50582], [42.23796, -87.994095], [27.037986, -80.233186], [25.80919, -80.206091], [35.138870000000004, -120.633122], [38.87418, -104.8129], [36.159138, -86.796245], [38.2998, -122.03409], [32.865595, -96.76991], [38.94209, -94.76797], [25.92058, -80.21030999999998], [37.181789, -93.271509]],\n",
       "                {&quot;blur&quot;: 15, &quot;maxZoom&quot;: 18, &quot;minOpacity&quot;: 0.5, &quot;radius&quot;: 25}\n",
       "            ).addTo(map_a71c503135d5feac8e218457cd421ffc);\n",
       "        \n",
       "&lt;/script&gt;\" style=\"position:absolute;width:100%;height:100%;left:0;top:0;border:none !important;\" allowfullscreen webkitallowfullscreen mozallowfullscreen></iframe></div></div>"
      ],
      "text/plain": [
       "<folium.folium.Map at 0x7f5d94cf5ad0>"
      ]
     },
     "execution_count": 38,
     "metadata": {},
     "output_type": "execute_result"
    }
   ],
   "source": [
    "map=folium.Map()\n",
    "HeatMap(lat_lng_pairs).add_to(map)\n",
    "map"
   ]
  },
  {
   "cell_type": "markdown",
   "id": "7a5c7069",
   "metadata": {
    "papermill": {
     "duration": 0.019761,
     "end_time": "2022-10-22T22:04:13.368456",
     "exception": false,
     "start_time": "2022-10-22T22:04:13.348695",
     "status": "completed"
    },
    "tags": []
   },
   "source": [
    "Most of the accidents happened on the east and west coast. The central region is almost empty"
   ]
  },
  {
   "cell_type": "markdown",
   "id": "c5a36eb4",
   "metadata": {
    "papermill": {
     "duration": 0.022397,
     "end_time": "2022-10-22T22:04:13.410878",
     "exception": false,
     "start_time": "2022-10-22T22:04:13.388481",
     "status": "completed"
    },
    "tags": []
   },
   "source": [
    "# Areas for future work\n",
    "My insight and analysis was not limited to the work presented here, it has a wealth of data ~4mil rows and can be further used to analyse such as seasonal data,temperature data, humuidty, pressure and whatnot."
   ]
  }
 ],
 "metadata": {
  "kernelspec": {
   "display_name": "Python 3",
   "language": "python",
   "name": "python3"
  },
  "language_info": {
   "codemirror_mode": {
    "name": "ipython",
    "version": 3
   },
   "file_extension": ".py",
   "mimetype": "text/x-python",
   "name": "python",
   "nbconvert_exporter": "python",
   "pygments_lexer": "ipython3",
   "version": "3.7.12"
  },
  "papermill": {
   "default_parameters": {},
   "duration": 54.262225,
   "end_time": "2022-10-22T22:04:14.551069",
   "environment_variables": {},
   "exception": null,
   "input_path": "__notebook__.ipynb",
   "output_path": "__notebook__.ipynb",
   "parameters": {},
   "start_time": "2022-10-22T22:03:20.288844",
   "version": "2.3.4"
  }
 },
 "nbformat": 4,
 "nbformat_minor": 5
}
